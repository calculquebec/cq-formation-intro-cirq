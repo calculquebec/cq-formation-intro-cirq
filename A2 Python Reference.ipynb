{
 "cells": [
  {
   "cell_type": "markdown",
   "metadata": {},
   "source": [
    "<h1> Python: aide-mémoire </h1>\n",
    "<hr>\n",
    "<ul>\n",
    "    <li><a href=\"#Variables\">Variables</a></li>\n",
    "    <li><a href=\"#Opérations arithmétiques\">Opérateurs arithmétiques</a></li>\n",
    "    <li><a href=\"#Objets\">Objets</a></li>\n",
    "    <li><a href=\"#Taille d'un objet\">Taille d'un objet</a></li>    \n",
    "    <li><a href=\"#Boucles\">Boucles</a></li>\n",
    "    <li><a href=\"#Boucles conditionnelles\">Boucles conditionnelles</a></li>\n",
    "    <li><a href=\"#Opérations logiques et booléens\">Opérateurs logiques et booléens</a></li>\n",
    "    <li><a href=\"#Double listes ou matrices\">Doubles listes ou matrices</a></li>\n",
    "    <li><a href=\"#Opérations sur des listes\">Opérations sur des listes</a></li>\n",
    "    <li><a href=\"#Fonctions\">Fonctions</a></li>\n",
    "    <li><a href=\"#Nombres aléatoires\">Nombres aléatoires</a></li>\n",
    "</ul>\n",
    "<hr>"
   ]
  },
  {
   "cell_type": "markdown",
   "metadata": {},
   "source": [
    "<a id=\"Variables\"></a>\n",
    "<h3> Variables </h3>"
   ]
  },
  {
   "cell_type": "code",
   "execution_count": null,
   "metadata": {},
   "outputs": [],
   "source": [
    "nombre = 5 # integer\n",
    "reel = -3.4 # float\n",
    "\n",
    "nom = 'Asja' # string\n",
    "surnom = \"Sarkana\" # string\n",
    "\n",
    "booleen1 = True # Boolean \n",
    "booleen2 = False # Boolean "
   ]
  },
  {
   "cell_type": "markdown",
   "metadata": {},
   "source": [
    "<hr>"
   ]
  },
  {
   "cell_type": "markdown",
   "metadata": {},
   "source": [
    "<a id=\"Opérations arithmétiques\"></a>\n",
    "<h3> Opérations arithmétiques </h3>"
   ]
  },
  {
   "cell_type": "markdown",
   "metadata": {},
   "source": [
    "<h4> Opérations de base </h4>"
   ]
  },
  {
   "cell_type": "code",
   "execution_count": null,
   "metadata": {},
   "outputs": [],
   "source": [
    "a = 13\n",
    "b = 5\n",
    "print(\"a =\",a)\n",
    "print(\"b =\",b)\n",
    "print()\n",
    "\n",
    "# Opérationss de base\n",
    "print(\"a + b =\",a+b)\n",
    "print(\"a - b =\",a-b)\n",
    "print(\"a * b =\",a*b)\n",
    "print(\"a / b =\",a/b)"
   ]
  },
  {
   "cell_type": "markdown",
   "metadata": {},
   "source": [
    "<h4> Division de nombres entiers et opération modulo </h4>"
   ]
  },
  {
   "cell_type": "code",
   "execution_count": null,
   "metadata": {},
   "outputs": [],
   "source": [
    "a = 13\n",
    "b = 5\n",
    "print(\"a =\",a)\n",
    "print(\"b =\",b)\n",
    "print()\n",
    "\n",
    "print(\"Division de nombres entiers:\")\n",
    "print(\"a//b =\",a//b)\n",
    "\n",
    "print(\"Opération modulo:\")\n",
    "print(\"a mod b =\",a % b)"
   ]
  },
  {
   "cell_type": "markdown",
   "metadata": {},
   "source": [
    "<h4> Operation exponentiel</h4>\n",
    "\n",
    "nombre\\*\\*exposant"
   ]
  },
  {
   "cell_type": "code",
   "execution_count": null,
   "metadata": {},
   "outputs": [],
   "source": [
    "b = 5\n",
    "print(\"b =\",b)\n",
    "print()\n",
    "\n",
    "print(\"b*b =\",b**2)\n",
    "print(\"b*b*b =\",b**3)\n",
    "print(\"sqrt(b)=\",b**0.5)"
   ]
  },
  {
   "cell_type": "markdown",
   "metadata": {},
   "source": [
    "<hr>"
   ]
  },
  {
   "cell_type": "markdown",
   "metadata": {},
   "source": [
    "<a id=\"Objets\"></a>\n",
    "<h3> Objects </h3>"
   ]
  },
  {
   "cell_type": "markdown",
   "metadata": {},
   "source": [
    "<h4> Listes </h4>"
   ]
  },
  {
   "cell_type": "code",
   "execution_count": null,
   "metadata": {},
   "outputs": [],
   "source": [
    "# liste\n",
    "maliste = [10,8,6,4,2] \n",
    "\n",
    "print(maliste)"
   ]
  },
  {
   "cell_type": "markdown",
   "metadata": {},
   "source": [
    "<h4> Tuple </h4>"
   ]
  },
  {
   "cell_type": "code",
   "execution_count": null,
   "metadata": {},
   "outputs": [],
   "source": [
    "# tuple est une liste qui ne peut être modifiée (non mutable)\n",
    "montuple=(1,4,5,'Asja') \n",
    "\n",
    "print(montuple)"
   ]
  },
  {
   "cell_type": "markdown",
   "metadata": {},
   "source": [
    "<h4> Dictionaire </h4>"
   ]
  },
  {
   "cell_type": "code",
   "execution_count": null,
   "metadata": {},
   "outputs": [],
   "source": [
    "# dictionaire\n",
    "mondictionaire = {\n",
    "    'nom' : \"Asja\",\n",
    "    'surnom':'Sarkane',\n",
    "    'age': 23\n",
    "}\n",
    "\n",
    "print(mondictionaire)\n",
    "\n",
    "print(mondictionaire['surnom'])"
   ]
  },
  {
   "cell_type": "markdown",
   "metadata": {},
   "source": [
    "<h4>Autres objets ou variables </h4>"
   ]
  },
  {
   "cell_type": "code",
   "execution_count": null,
   "metadata": {},
   "outputs": [],
   "source": [
    "# liste d'autres objets ou variables\n",
    "autres_objets =[\n",
    "    maliste,\n",
    "    montuple,\n",
    "    3,\n",
    "    \"Asja\",\n",
    "    mondictionaire\n",
    "]\n",
    "\n",
    "print(autres_objets)"
   ]
  },
  {
   "cell_type": "markdown",
   "metadata": {},
   "source": [
    "<hr>"
   ]
  },
  {
   "cell_type": "markdown",
   "metadata": {},
   "source": [
    "<a id=\"Taille d'un objet\"></a>\n",
    "<h3> Taille d'un objet </h3>\n",
    "\n",
    "On emploie \"len()\" avec un objet comme entrée."
   ]
  },
  {
   "cell_type": "code",
   "execution_count": null,
   "metadata": {},
   "outputs": [],
   "source": [
    "# longueur d'une chaîne\n",
    "print(len(\"Asja Sarkane\"))\n",
    "\n",
    "# longueur d'une liste\n",
    "print(len([1,2,3,4]))\n",
    "\n",
    "# Taille d'un dictionnaire\n",
    "mondictionaire = { 'nom' : \"Asja\", 'surnom':'Sarkane', 'age': 23}\n",
    "print(len(mondictionaire))"
   ]
  },
  {
   "cell_type": "markdown",
   "metadata": {},
   "source": [
    "<hr>"
   ]
  },
  {
   "cell_type": "markdown",
   "metadata": {},
   "source": [
    "<a id=\"Boucles\"></a>\n",
    "<h3> Boucles </h3>"
   ]
  },
  {
   "cell_type": "markdown",
   "metadata": {},
   "source": [
    "<h4> Boucles \"while\" </h4>"
   ]
  },
  {
   "cell_type": "code",
   "execution_count": null,
   "metadata": {},
   "outputs": [],
   "source": [
    "i = 10\n",
    "while i>0: # condition(s) pour l'instruction while :\n",
    "    print(i)\n",
    "    i = i - 1   "
   ]
  },
  {
   "cell_type": "markdown",
   "metadata": {},
   "source": [
    "<h4> Boucle \"For\"</h4>"
   ]
  },
  {
   "cell_type": "code",
   "execution_count": null,
   "metadata": {},
   "outputs": [],
   "source": [
    "for i in range(10): # i est dans la séquence [0,1,...,9]\n",
    "    print(i)"
   ]
  },
  {
   "cell_type": "code",
   "execution_count": null,
   "metadata": {},
   "outputs": [],
   "source": [
    "for i in range(-5,6): # i est dans la séquence [-5,-4,...,0,...,4,5]\n",
    "    print(i)"
   ]
  },
  {
   "cell_type": "code",
   "execution_count": null,
   "metadata": {},
   "outputs": [],
   "source": [
    "for i in range(0,23,4): # i est dans la séquence [0,4,8,12,16,20]\n",
    "    print(i)"
   ]
  },
  {
   "cell_type": "code",
   "execution_count": null,
   "metadata": {},
   "outputs": [],
   "source": [
    "for i in [3,8,-5,11]: \n",
    "    print(i)"
   ]
  },
  {
   "cell_type": "code",
   "execution_count": null,
   "metadata": {},
   "outputs": [],
   "source": [
    "for i in \"Sarkane\":\n",
    "    print(i)"
   ]
  },
  {
   "cell_type": "code",
   "execution_count": null,
   "metadata": {},
   "outputs": [],
   "source": [
    "# dictionaire\n",
    "mondictionaire = {\n",
    "    'nom' : \"Asja\",\n",
    "    'surnom':'Sarkane',\n",
    "    'age': 23,\n",
    "}\n",
    "\n",
    "for cle in mondictionaire:\n",
    "    print(\"La clé est\",cle,\"et sa valeur est\",mondictionaire[cle])"
   ]
  },
  {
   "cell_type": "markdown",
   "metadata": {},
   "source": [
    "<hr>"
   ]
  },
  {
   "cell_type": "markdown",
   "metadata": {},
   "source": [
    "<a id=\"Boucles conditionnelles\"></a>\n",
    "<h3>Boucles conditionnelles </h3>"
   ]
  },
  {
   "cell_type": "code",
   "execution_count": null,
   "metadata": {},
   "outputs": [],
   "source": [
    "for a in range(4,7):\n",
    "    \n",
    "    # if: condition(s) \"si\"\n",
    "    if a<5: \n",
    "        print(a,\"is less than 5\")\n",
    "        \n",
    "    # elif: conditions(s) \"sinon si\"\n",
    "    elif a==5: \n",
    "        print(a,\"is equal to 5\")\n",
    "        \n",
    "    # else: conditions(s) \"sinon\"\n",
    "    else:\n",
    "        print(a,\"is greater than 5\")"
   ]
  },
  {
   "cell_type": "markdown",
   "metadata": {},
   "source": [
    "<hr>"
   ]
  },
  {
   "cell_type": "markdown",
   "metadata": {},
   "source": [
    "<a id=\"Opérations logiques et booléennes\"></a>\n",
    "<h3>Opérations logiques et booléennes</h3>"
   ]
  },
  {
   "cell_type": "markdown",
   "metadata": {},
   "source": [
    "<h4> Opération logique \"and\"</h4>"
   ]
  },
  {
   "cell_type": "code",
   "execution_count": null,
   "metadata": {},
   "outputs": [],
   "source": [
    "# Opération logique \"and\"\n",
    "i = -3\n",
    "j = 4\n",
    "if i<0 and j > 0:  \n",
    "    print(i,\"is negative AND\",j,\"is positive\")"
   ]
  },
  {
   "cell_type": "markdown",
   "metadata": {},
   "source": [
    "<h4>Opération logique \"or\"</h4>"
   ]
  },
  {
   "cell_type": "code",
   "execution_count": null,
   "metadata": {},
   "outputs": [],
   "source": [
    "# Opération logique \"or\"\n",
    "i = -2\n",
    "j = 2\n",
    "if i==2 or j == 2:  \n",
    "    print(\"i OR j is 2: (\",i,\",\",j,\")\")"
   ]
  },
  {
   "cell_type": "markdown",
   "metadata": {},
   "source": [
    "<h4>Opération logique \"not\" </h4>"
   ]
  },
  {
   "cell_type": "code",
   "execution_count": null,
   "metadata": {},
   "outputs": [],
   "source": [
    "# Opération logique \"not\"\n",
    "i = 3\n",
    "if not (i==2):\n",
    "    print(i,\"is NOT equal to 2\")"
   ]
  },
  {
   "cell_type": "markdown",
   "metadata": {},
   "source": [
    "<h4> Opérateur \"equal to\" </h4>"
   ]
  },
  {
   "cell_type": "code",
   "execution_count": null,
   "metadata": {},
   "outputs": [],
   "source": [
    "# Opérateur \"equal to\"\n",
    "i = -1\n",
    "if i == -1:\n",
    "    print(i,\"est ÉGALE à -1\")"
   ]
  },
  {
   "cell_type": "markdown",
   "metadata": {},
   "source": [
    "<h4> Opérateur \"not equal to\" </h4>"
   ]
  },
  {
   "cell_type": "code",
   "execution_count": null,
   "metadata": {},
   "outputs": [],
   "source": [
    "# Opérateur \"not equal to\"\n",
    "i = 4\n",
    "if i != 3:\n",
    "    print(i,\"n'est PAS ÉGALE à 3\")"
   ]
  },
  {
   "cell_type": "markdown",
   "metadata": {},
   "source": [
    "<h4> Opérateur \"less than or equal to\" </h4>"
   ]
  },
  {
   "cell_type": "code",
   "execution_count": null,
   "metadata": {},
   "outputs": [],
   "source": [
    "# Opérateur \"not equal to\"\n",
    "i = 2\n",
    "if i <= 5:\n",
    "    print(i,\"est PLUS PETIT OU ÉGALE à 5\")"
   ]
  },
  {
   "cell_type": "markdown",
   "metadata": {},
   "source": [
    "<h4> Opérateur \"greater than or equal to\" </h4>"
   ]
  },
  {
   "cell_type": "code",
   "execution_count": null,
   "metadata": {},
   "outputs": [],
   "source": [
    "# Opérateur \"not equal to\"\n",
    "i = 5\n",
    "if i >= 1:\n",
    "    print(i,\"est PLUS GRAND OU ÉGALE à 3\")"
   ]
  },
  {
   "cell_type": "markdown",
   "metadata": {},
   "source": [
    "<hr>"
   ]
  },
  {
   "cell_type": "markdown",
   "metadata": {},
   "source": [
    "<a id=\"Double listes ou matrices\"></a>\n",
    "<h3> Double listes ou matrices </h3>"
   ]
  },
  {
   "cell_type": "code",
   "execution_count": null,
   "metadata": {},
   "outputs": [],
   "source": [
    "A =[\n",
    "    [1,2,3],\n",
    "    [-2,-4,-6],\n",
    "    [3,6,9]\n",
    "]\n",
    "\n",
    "# résultats\n",
    "print(A)\n",
    "print()\n",
    "\n",
    "# ordonner un résultat par ligne\n",
    "for list in A:\n",
    "    print(list)"
   ]
  },
  {
   "cell_type": "markdown",
   "metadata": {},
   "source": [
    "<hr>"
   ]
  },
  {
   "cell_type": "markdown",
   "metadata": {},
   "source": [
    "<a id=\"Liste_operations\"></a>\n",
    "<h3>Liste d'opérations</h3>"
   ]
  },
  {
   "cell_type": "markdown",
   "metadata": {},
   "source": [
    "<h4> Concaténation de deux listes </h4>"
   ]
  },
  {
   "cell_type": "code",
   "execution_count": null,
   "metadata": {},
   "outputs": [],
   "source": [
    "liste1 = [1,2,3]\n",
    "liste2 = [4,5,6]\n",
    "\n",
    "#Concaténation de deux listes\n",
    "\n",
    "liste3 = liste1 + liste2\n",
    "print(liste3)\n",
    "\n",
    "liste4 = liste2 + liste1\n",
    "print(liste4)"
   ]
  },
  {
   "cell_type": "markdown",
   "metadata": {},
   "source": [
    "<h4> Ajout d'un nouvel élément </h4>"
   ]
  },
  {
   "cell_type": "code",
   "execution_count": null,
   "metadata": {},
   "outputs": [],
   "source": [
    "liste = [0,1,2]\n",
    "\n",
    "liste.append(3)\n",
    "print(liste)\n",
    "\n",
    "liste = liste + [4]\n",
    "print(list)"
   ]
  },
  {
   "cell_type": "markdown",
   "metadata": {},
   "source": [
    "<hr>"
   ]
  },
  {
   "cell_type": "markdown",
   "metadata": {},
   "source": [
    "<a id=\"Fonctions\"></a>\n",
    "<h3>Fonctions</h3>"
   ]
  },
  {
   "cell_type": "code",
   "execution_count": null,
   "metadata": {},
   "outputs": [],
   "source": [
    "def somme_nombres_entiers(n):\n",
    "    somme = 0\n",
    "    for entier in range(n+1):\n",
    "        somme = somme + entier\n",
    "    return somme\n",
    "\n",
    "print(somme_nombres_entiers(10))\n",
    "print(somme_nombres_entiers(20))"
   ]
  },
  {
   "cell_type": "markdown",
   "metadata": {},
   "source": [
    "<hr>"
   ]
  },
  {
   "cell_type": "markdown",
   "metadata": {},
   "source": [
    "<a id=\"Nombres aléatoires\"></a>\n",
    "<h3>Nombres aléatoires</h3>\n",
    "\n",
    "On emploie la commande \"randrange()\"."
   ]
  },
  {
   "cell_type": "code",
   "execution_count": null,
   "metadata": {},
   "outputs": [],
   "source": [
    "from random import randrange\n",
    "\n",
    "print(randrange(10),\"choisi des nombres aléatoires entre 0 et 9\")\n",
    "      \n",
    "print(randrange(-9,10),\"choisi des nombres aléatoires entre -9 et 9\")\n",
    "\n",
    "print(randrange(0,20,3),\"choisi aléatoirement parmi la liste [0,3,6,9,12,15,18]\")"
   ]
  }
 ],
 "metadata": {
  "kernelspec": {
   "display_name": "Python 3 (ipykernel)",
   "language": "python",
   "name": "python3"
  },
  "language_info": {
   "codemirror_mode": {
    "name": "ipython",
    "version": 3
   },
   "file_extension": ".py",
   "mimetype": "text/x-python",
   "name": "python",
   "nbconvert_exporter": "python",
   "pygments_lexer": "ipython3",
   "version": "3.11.3"
  }
 },
 "nbformat": 4,
 "nbformat_minor": 4
}
