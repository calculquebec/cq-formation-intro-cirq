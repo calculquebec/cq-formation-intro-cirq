{
 "cells": [
  {
   "cell_type": "markdown",
   "id": "0a89f5b3",
   "metadata": {},
   "source": [
    "## Algorithme HHL (Harrow-Hassidim-Lloyd)\n",
    "L'algorithme HHL est un algorithme quantique qui permet de résoudre certains systèmes d'équations linéaires."
   ]
  },
  {
   "cell_type": "code",
   "execution_count": null,
   "id": "d83996f1",
   "metadata": {},
   "outputs": [],
   "source": [
    "import cirq\n",
    "import math\n",
    "import numpy as np\n",
    "import sympy\n",
    "from cirq.contrib.svg import SVGCircuit"
   ]
  },
  {
   "cell_type": "markdown",
   "id": "9c8d15f2",
   "metadata": {},
   "source": [
    "À partir d'une matrice Hermitienne A connue et d'un vecteur b connu, trouver le vecteur x tel que Ax=b.\n",
    "L'algorithme utilise 3 ensembles de qubits disctincs. D'abord, un registre de qubits permettent l'estimation de phase pour extraire les valeurs propres de la matrice A, puis des qubits de mémoire pour enregistrer les valeurs des vecteurs b et x et finalement un qubit ancilla ( ou qubit auxiliaire) nécessaire aux calculs.\n",
    "\n",
    "L'algorithme HHL transforme d'abord cette matrice A en opérateur unitaire sur lequel on fait une estimation de phase.\n",
    "\n",
    "On définit une porte qui applique l'estimation de phase sur un nombre arbitraire de qubits. Le dernier qubit encode le vecteur propre tandis que les autres qubits encodent l'estimation de phase. La porte prends en paramètre le nombre de qubits ainsi que le qubit dont on veut estimer la phase"
   ]
  },
  {
   "cell_type": "code",
   "execution_count": null,
   "id": "64d087d5",
   "metadata": {},
   "outputs": [],
   "source": [
    "class EstimationPhase(cirq.Gate):\n",
    "\n",
    "    def __init__(self, num_qubits, unitary):\n",
    "        self._num_qubits = num_qubits\n",
    "        self.U = unitary\n",
    "\n",
    "    def num_qubits(self):\n",
    "        return self._num_qubits\n",
    "\n",
    "    def _decompose_(self, qubits):\n",
    "        qubits = list(qubits)\n",
    "        yield cirq.H.on_each(*qubits[:-1])\n",
    "        yield PhaseKickback(self.num_qubits(), self.U)(*qubits)\n",
    "        yield cirq.qft(*qubits[:-1], without_reverse=True) ** -1"
   ]
  },
  {
   "cell_type": "markdown",
   "id": "6c999412",
   "metadata": {},
   "source": [
    "Comme l'estimation de phase que nous venons d'implémenter utilise la porte de retour de phase (phase kickback en anglais), nous devons aussi implémenter cette porte."
   ]
  },
  {
   "cell_type": "code",
   "execution_count": null,
   "id": "06f5549d",
   "metadata": {},
   "outputs": [],
   "source": [
    "class PhaseKickback(cirq.Gate):\n",
    "\n",
    "    def __init__(self, num_qubits, unitary):\n",
    "        super(PhaseKickback, self)\n",
    "        self._num_qubits = num_qubits\n",
    "        self.U = unitary\n",
    "\n",
    "    def num_qubits(self):\n",
    "        return self._num_qubits\n",
    "\n",
    "    def _decompose_(self, qubits):\n",
    "        qubits = list(qubits)\n",
    "        memory = qubits.pop()\n",
    "        for i, qubit in enumerate(qubits):\n",
    "            yield cirq.ControlledGate(self.U ** (2**i))(qubit, memory)"
   ]
  },
  {
   "cell_type": "markdown",
   "id": "468aa9df",
   "metadata": {},
   "source": [
    "On implémente aussi la porte de simulation Hamiltonienne qui transforme la matrice Hermitienne A en opérateur unitaire.\n",
    "\n",
    "Pour les fins de l'exercice, on utilise la fonction de la librairie numpy, np.linalg.eigh(A), pour simplifier la simulation Hamiltonienne. Pour des plus grandes matrices, on devra implémenter une vrai simulation Hamiltonienne."
   ]
  },
  {
   "cell_type": "code",
   "execution_count": null,
   "id": "5b16e5f0",
   "metadata": {},
   "outputs": [],
   "source": [
    "class SimulationHamiltonienne(cirq.EigenGate):\n",
    "\n",
    "    def __init__(self, A, t, exponent=1.0):\n",
    "        cirq.EigenGate.__init__(self, exponent=exponent)\n",
    "        self.A = A\n",
    "        self.t = t\n",
    "        ws, vs = np.linalg.eigh(A)\n",
    "        self.eigen_components = []\n",
    "        for w, v in zip(ws, vs.T):\n",
    "            theta = w * t / math.pi\n",
    "            P = np.outer(v, np.conj(v))\n",
    "            self.eigen_components.append((theta, P))\n",
    "\n",
    "    def _num_qubits_(self) -> int:\n",
    "        return 1\n",
    "\n",
    "    def _with_exponent(self, exponent):\n",
    "        return SimulationHamiltonienne(self.A, self.t, exponent)\n",
    "\n",
    "    def _eigen_components(self):\n",
    "        return self.eigen_components"
   ]
  },
  {
   "cell_type": "markdown",
   "id": "107ced6f",
   "metadata": {},
   "source": [
    "L'algorithme HHL utilise des rotations controllées autour de l'axe Y du qubit ancilla. Ici, le qubit ancilla est le dernier qubit du circuit."
   ]
  },
  {
   "cell_type": "code",
   "execution_count": null,
   "id": "2db62258",
   "metadata": {},
   "outputs": [],
   "source": [
    "class RotationPropre(cirq.Gate):\n",
    "\n",
    "    def __init__(self, num_qubits, C, t):\n",
    "        super(RotationPropre, self)\n",
    "        self._num_qubits = num_qubits\n",
    "        self.C = C\n",
    "        self.t = t\n",
    "        self.N = 2 ** (num_qubits - 1)\n",
    "\n",
    "    def num_qubits(self):\n",
    "        return self._num_qubits\n",
    "\n",
    "    def _decompose_(self, qubits):\n",
    "        for k in range(self.N):\n",
    "            kGate = self._ancilla_rotation(k)\n",
    "\n",
    "            # xor's 1 bits correspond to X gate positions.\n",
    "            xor = k ^ (k - 1)\n",
    "\n",
    "            for q in qubits[-2::-1]:\n",
    "                # Place X gates\n",
    "                if xor % 2 == 1:\n",
    "                    yield cirq.X(q)\n",
    "                xor >>= 1\n",
    "\n",
    "                # Build controlled ancilla rotation\n",
    "                kGate = cirq.ControlledGate(kGate)\n",
    "\n",
    "            yield kGate(*qubits)\n",
    "\n",
    "    def _ancilla_rotation(self, k):\n",
    "        if k == 0:\n",
    "            k = self.N\n",
    "        theta = 2 * math.asin(self.C * self.N * self.t / (2 * math.pi * k))\n",
    "        return cirq.ry(theta)\n"
   ]
  },
  {
   "cell_type": "markdown",
   "id": "95b1045c",
   "metadata": {},
   "source": [
    "Assemblons maintenant le circuit. Les paramètre à donner sont A: la matrice hermitienne d'entrée, C: la plus petite valeur propre qui peut être représentée par le circuit, t: variable qui controle la précision de l'algorithme, register_size: la taille du registre et input_prep_gates des portes à ajouter au circuit avant l'algorithme HHL."
   ]
  },
  {
   "cell_type": "code",
   "execution_count": null,
   "id": "58dce480",
   "metadata": {},
   "outputs": [],
   "source": [
    "def hhl_circuit(A, C, t, register_size, *input_prep_gates):\n",
    "\n",
    "    ancilla = cirq.LineQubit(0)\n",
    "    # to store eigenvalues of the matrix\n",
    "    register = [cirq.LineQubit(i + 1) for i in range(register_size)]\n",
    "    # to store input and output vectors\n",
    "    memory = cirq.LineQubit(register_size + 1)\n",
    "\n",
    "    c = cirq.Circuit()\n",
    "    hs = SimulationHamiltonienne(A, t)\n",
    "    pe = EstimationPhase(register_size + 1, hs)\n",
    "    c.append([gate(memory) for gate in input_prep_gates])\n",
    "    c.append(\n",
    "        [\n",
    "            pe(*(register + [memory])),\n",
    "            RotationPropre(register_size + 1, C, t)(*(register + [ancilla])),\n",
    "            pe(*(register + [memory])) ** -1,\n",
    "            cirq.measure(ancilla, key='a'),\n",
    "        ]\n",
    "    )\n",
    "\n",
    "    c.append(\n",
    "        [\n",
    "            cirq.PhasedXPowGate(\n",
    "                exponent=sympy.Symbol('exponent'), phase_exponent=sympy.Symbol('phase_exponent')\n",
    "            )(memory),\n",
    "            cirq.measure(memory, key='m'),\n",
    "        ]\n",
    "    )\n",
    "\n",
    "    return c"
   ]
  },
  {
   "cell_type": "markdown",
   "id": "0ff6acd3",
   "metadata": {},
   "source": [
    "Visualisons le circuit généré"
   ]
  },
  {
   "cell_type": "code",
   "execution_count": null,
   "id": "cbe666d5",
   "metadata": {},
   "outputs": [],
   "source": [
    "# Eigendecomposition:\n",
    "#   (4.537, [-0.971555, -0.0578339+0.229643j])\n",
    "#   (0.349, [-0.236813, 0.237270-0.942137j])\n",
    "# |b> = (0.64510-0.47848j, 0.35490-0.47848j)\n",
    "# |x> = (-0.0662724-0.214548j, 0.784392-0.578192j)\n",
    "\n",
    "A = np.array(\n",
    "    [\n",
    "        [4.30213466 - 6.01593490e-08j, 0.23531802 + 9.34386156e-01j],\n",
    "        [0.23531882 - 9.34388383e-01j, 0.58386534 + 6.01593489e-08j],\n",
    "    ]\n",
    ")\n",
    "t = 0.358166 * math.pi\n",
    "register_size = 4\n",
    "input_prep_gates = [cirq.rx(1.276359), cirq.rz(1.276359)]\n",
    "expected = (0.144130, 0.413217, -0.899154)\n",
    "\n",
    "# Set C to be the smallest eigenvalue that can be represented by the\n",
    "# circuit.\n",
    "C = 2 * math.pi / (2**register_size * t)\n",
    "\n",
    "circuit=hhl_circuit(A, C, t, register_size, *input_prep_gates)\n",
    "SVGCircuit(hhl_circuit(A, C, t, register_size, *input_prep_gates))"
   ]
  },
  {
   "cell_type": "markdown",
   "id": "1a9c52e8",
   "metadata": {},
   "source": [
    "Définissons comment simuler le circuit."
   ]
  },
  {
   "cell_type": "code",
   "execution_count": null,
   "id": "a213a5c3",
   "metadata": {},
   "outputs": [],
   "source": [
    "def simulate(circuit):\n",
    "    simulator = cirq.Simulator()\n",
    "\n",
    "    # Cas pour mesurer X,Y et Z respectivement sur les qubits de mémoire,\n",
    "    params = [\n",
    "        {'exponent': 0.5, 'phase_exponent': -0.5},\n",
    "        {'exponent': 0.5, 'phase_exponent': 0},\n",
    "        {'exponent': 0, 'phase_exponent': 0},\n",
    "    ]\n",
    "\n",
    "    results = simulator.run_sweep(circuit, params, repetitions=5000)\n",
    "\n",
    "    for label, result in zip(('X', 'Y', 'Z'), list(results)):\n",
    "        # Sélectionner uniquement les cas ou le qubit auxiliaire est 1.\n",
    "        expectation = 1 - 2 * np.mean(result.measurements['m'][result.measurements['a'] == 1])\n",
    "        print(f'{label} = {expectation}')"
   ]
  },
  {
   "cell_type": "markdown",
   "id": "6c73802d",
   "metadata": {},
   "source": [
    "Lancer la simulation"
   ]
  },
  {
   "cell_type": "code",
   "execution_count": null,
   "id": "b009f5a5",
   "metadata": {},
   "outputs": [],
   "source": [
    "A = np.array(\n",
    "    [\n",
    "        [4.30213466 - 6.01593490e-08j, 0.23531802 + 9.34386156e-01j],\n",
    "        [0.23531882 - 9.34388383e-01j, 0.58386534 + 6.01593489e-08j],\n",
    "    ]\n",
    ")\n",
    "t = 0.358166 * math.pi\n",
    "register_size = 4\n",
    "input_prep_gates = [cirq.rx(1.276359), cirq.rz(1.276359)]\n",
    "expected = (0.144130, 0.413217, -0.899154)\n",
    "C = 2 * math.pi / (2**register_size * t)\n",
    "\n",
    "print(\"Résultats attendus :\")\n",
    "print(\"X =\", expected[0])\n",
    "print(\"Y =\", expected[1])\n",
    "print(\"Z =\", expected[2])\n",
    "print(\"Résultats obtenus : \")\n",
    "\n",
    "simulate(hhl_circuit(A, C, t, register_size, *input_prep_gates))"
   ]
  },
  {
   "cell_type": "markdown",
   "id": "a077544b",
   "metadata": {},
   "source": [
    "L'implémentation ci-haut est adaptée à partir de l'implémentation de la librairie Cirq. Plus précisément de [cet exemple](https://github.com/quantumlib/Cirq/blob/master/examples/hhl.py)\n",
    "\n",
    "Cirq Developers. (2022). Cirq. Zenodo. https://doi.org/10.5281/zenodo.7465577, "
   ]
  },
  {
   "cell_type": "code",
   "execution_count": null,
   "id": "4c046c64",
   "metadata": {},
   "outputs": [],
   "source": []
  }
 ],
 "metadata": {
  "kernelspec": {
   "display_name": "Python 3 (ipykernel)",
   "language": "python",
   "name": "python3"
  },
  "language_info": {
   "codemirror_mode": {
    "name": "ipython",
    "version": 3
   },
   "file_extension": ".py",
   "mimetype": "text/x-python",
   "name": "python",
   "nbconvert_exporter": "python",
   "pygments_lexer": "ipython3",
   "version": "3.11.3"
  }
 },
 "nbformat": 4,
 "nbformat_minor": 5
}
