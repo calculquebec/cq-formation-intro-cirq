{
 "cells": [
  {
   "cell_type": "markdown",
   "metadata": {},
   "source": [
    "<table width=\"100%\"><tr><td style=\"color:#bbbbbb;background-color:#ffffff;font-size:11px;font-style:italic;text-align:right;\">Cette cellule contient des macros. Exécutez la cellule si les formules ont des erreurs.</td></tr></table>\n",
    "$ \\newcommand{\\bra}[1]{\\langle #1|} $\n",
    "$ \\newcommand{\\ket}[1]{|#1\\rangle} $\n",
    "$ \\newcommand{\\braket}[2]{\\langle #1|#2\\rangle} $\n",
    "$ \\newcommand{\\dot}[2]{ #1 \\cdot #2} $\n",
    "$ \\newcommand{\\biginner}[2]{\\left\\langle #1,#2\\right\\rangle} $\n",
    "$ \\newcommand{\\mymatrix}[2]{\\left( \\begin{array}{#1} #2\\end{array} \\right)} $\n",
    "$ \\newcommand{\\myvector}[1]{\\mymatrix{c}{#1}} $\n",
    "$ \\newcommand{\\myrvector}[1]{\\mymatrix{r}{#1}} $\n",
    "$ \\newcommand{\\mypar}[1]{\\left( #1 \\right)} $\n",
    "$ \\newcommand{\\mybigpar}[1]{ \\Big( #1 \\Big)} $\n",
    "$ \\newcommand{\\sqrttwo}{\\frac{1}{\\sqrt{2}}} $\n",
    "$ \\newcommand{\\dsqrttwo}{\\dfrac{1}{\\sqrt{2}}} $\n",
    "$ \\newcommand{\\onehalf}{\\frac{1}{2}} $\n",
    "$ \\newcommand{\\donehalf}{\\dfrac{1}{2}} $\n",
    "$ \\newcommand{\\hadamard}{ \\mymatrix{rr}{ \\sqrttwo & \\sqrttwo \\\\ \\sqrttwo & -\\sqrttwo }} $\n",
    "$ \\newcommand{\\vzero}{\\myvector{1\\\\0}} $\n",
    "$ \\newcommand{\\vone}{\\myvector{0\\\\1}} $\n",
    "$ \\newcommand{\\vhadamardzero}{\\myvector{ \\sqrttwo \\\\  \\sqrttwo } } $\n",
    "$ \\newcommand{\\vhadamardone}{ \\myrvector{ \\sqrttwo \\\\ -\\sqrttwo } } $\n",
    "$ \\newcommand{\\myarray}[2]{ \\begin{array}{#1}#2\\end{array}} $\n",
    "$ \\newcommand{\\X}{ \\mymatrix{cc}{0 & 1 \\\\ 1 & 0}  } $\n",
    "$ \\newcommand{\\Z}{ \\mymatrix{rr}{1 & 0 \\\\ 0 & -1}  } $\n",
    "$ \\newcommand{\\Htwo}{ \\mymatrix{rrrr}{ \\frac{1}{2} & \\frac{1}{2} & \\frac{1}{2} & \\frac{1}{2} \\\\ \\frac{1}{2} & -\\frac{1}{2} & \\frac{1}{2} & -\\frac{1}{2} \\\\ \\frac{1}{2} & \\frac{1}{2} & -\\frac{1}{2} & -\\frac{1}{2} \\\\ \\frac{1}{2} & -\\frac{1}{2} & -\\frac{1}{2} & \\frac{1}{2} } } $\n",
    "$ \\newcommand{\\CNOT}{ \\mymatrix{cccc}{1 & 0 & 0 & 0 \\\\ 0 & 1 & 0 & 0 \\\\ 0 & 0 & 0 & 1 \\\\ 0 & 0 & 1 & 0} } $\n",
    "$ \\newcommand{\\norm}[1]{ \\left\\lVert #1 \\right\\rVert } $"
   ]
  },
  {
   "cell_type": "markdown",
   "metadata": {},
   "source": [
    "<h1> Introduction to Cirq </h1>\n",
    "\n",
    "<hr>"
   ]
  },
  {
   "cell_type": "markdown",
   "metadata": {},
   "source": [
    "Vous pouvez importer Cirq en utilisant la commande suivante:"
   ]
  },
  {
   "cell_type": "code",
   "execution_count": null,
   "metadata": {},
   "outputs": [],
   "source": [
    "import cirq"
   ]
  },
  {
   "cell_type": "markdown",
   "metadata": {},
   "source": [
    "<hr>\n",
    "<h2>Créer des qubits</h2>"
   ]
  },
  {
   "cell_type": "markdown",
   "metadata": {},
   "source": [
    "Il y a plusieurs façons de créer des qubits avec CirQ. On introduit deux méthodes ici."
   ]
  },
  {
   "cell_type": "markdown",
   "metadata": {},
   "source": [
    "<b>Qubits nommés</b>"
   ]
  },
  {
   "cell_type": "markdown",
   "metadata": {},
   "source": [
    "La méthode de nommer les qubits est la façon la plus simple de créer des qubits. Les qubits sont identifiés par leur nom."
   ]
  },
  {
   "cell_type": "code",
   "execution_count": null,
   "metadata": {},
   "outputs": [],
   "source": [
    "#Crée deux qubits: contrôle et cible\n",
    "ctrl = cirq.NamedQubit('controle')\n",
    "cib = cirq.NamedQubit('cible')\n",
    "print(ctrl)\n",
    "print(cib)"
   ]
  },
  {
   "cell_type": "markdown",
   "metadata": {},
   "source": [
    "<b>Qubits linéaires</b>"
   ]
  },
  {
   "cell_type": "markdown",
   "metadata": {},
   "source": [
    "<i>Qubit linéaire</i> crée un qubit situé sur une ligne 1-D et chaque qubit est identifié par sa coordonnée $x$."
   ]
  },
  {
   "cell_type": "code",
   "execution_count": null,
   "metadata": {},
   "outputs": [],
   "source": [
    "# Renvoie le 4ème qubit sur la ligne\n",
    "q4 = cirq.LineQubit(4)\n",
    "print(q4)\n",
    "#Notez que 4 n'est pas le nombre de qubits."
   ]
  },
  {
   "cell_type": "markdown",
   "metadata": {},
   "source": [
    "Pour créer une liste de qubits, la commande \"range\" est employée"
   ]
  },
  {
   "cell_type": "code",
   "execution_count": null,
   "metadata": {},
   "outputs": [],
   "source": [
    "#Liste de 4 qubits commençant par l'indice 0 et terminant avec l'indice 3\n",
    "qliste = cirq.LineQubit.range(4) \n",
    "\n",
    "#Élement de la liste de qubits\n",
    "print(qliste[2])\n",
    "\n",
    "#Les qubits de la liste peuvent également être stockés individuellement\n",
    "qubit0, qubit1, qubit2 = cirq.LineQubit.range(3)"
   ]
  },
  {
   "cell_type": "markdown",
   "metadata": {},
   "source": [
    "<hr>\n",
    "<h2>Créer des circuits</h2>"
   ]
  },
  {
   "cell_type": "code",
   "execution_count": null,
   "metadata": {},
   "outputs": [],
   "source": [
    "#Crée un circuit quantique\n",
    "circuit = cirq.Circuit()"
   ]
  },
  {
   "cell_type": "markdown",
   "metadata": {},
   "source": [
    "<hr>\n",
    "<h2>Portes logiques quantiques</h2>"
   ]
  },
  {
   "cell_type": "markdown",
   "metadata": {},
   "source": [
    "Voici quelques <i>portes</i> et comment nous les appliquons avec Cirq. Les portes sont appliquées aux qubits formant des _opérations_ et les opérations sont ajoutées aux circuits quantiques. Les qubits n'appartiennent pas aux circuits"
   ]
  },
  {
   "cell_type": "code",
   "execution_count": null,
   "metadata": {},
   "outputs": [],
   "source": [
    "#Importation des portes.\n",
    "from cirq import X, Z, H, CX, CZ, SWAP, CCX\n",
    "\n",
    "#Application de la porte NOT au qubit 2\n",
    "circuit.append(X(qliste[2]))\n",
    "\n",
    "#Application de la porte Z au qubit 2\n",
    "circuit.append(Z(qliste[2]))\n",
    "\n",
    "#Application de la porte H au qubit 3\n",
    "circuit.append(H(qliste[3]))\n",
    "\n",
    "#Application de la porte CNOT où le qubit 2 est le contrôle et le qubit 0 est la cible\n",
    "circuit.append(CX(qliste[2], qliste[0]))\n",
    "\n",
    "#Application de la porte CZ où le qubit 0 est le contrôle and qubit 1 est la cible\n",
    "circuit.append(CZ(qliste[0], qliste[1]))\n",
    "\n",
    "#Application de la porte SWAP aux qubits 1 et 3 \n",
    "circuit.append(SWAP(qliste[1], qliste[3]))\n",
    "\n",
    "#Application de la porte CCNOT où les qubits 0 et 1 sont les contrôles et qubit 2 est la cible\n",
    "circuit.append(CCX(qliste[0], qliste[1], qliste[2]))"
   ]
  },
  {
   "cell_type": "markdown",
   "metadata": {},
   "source": [
    "Visualisons le circuit"
   ]
  },
  {
   "cell_type": "code",
   "execution_count": null,
   "metadata": {
    "scrolled": true
   },
   "outputs": [],
   "source": [
    "print(circuit)"
   ]
  },
  {
   "cell_type": "markdown",
   "metadata": {},
   "source": [
    "### Exercise 1\n",
    "    \n",
    "Créez un circuit avec 10 qubits. \n",
    "\n",
    "1. Appliquez la porte $H$ au qubit 0 \n",
    "2. Appliquez 9 portes $CNOT$ où le qubit $0$ est le contrôle et les qubist $i$ sont les cibles pour $i=1,\\dots,9$.\n",
    "\n",
    "Visualisez le circuit\n",
    "\n",
    "**Note:** CirQ utilise un registre quantique et un registre classique pour la mesure."
   ]
  },
  {
   "cell_type": "code",
   "execution_count": null,
   "metadata": {},
   "outputs": [],
   "source": [
    "import cirq\n",
    "from cirq import H, CX\n",
    "\n",
    "#\n",
    "# Votre solution\n",
    "#\n"
   ]
  },
  {
   "cell_type": "markdown",
   "metadata": {},
   "source": [
    "<h2> Autres opérations avec les portes </h2>"
   ]
  },
  {
   "cell_type": "markdown",
   "metadata": {},
   "source": [
    "Il est possible d'appliquer une porte à plusieurs qubits à la fois en utilisant le mot-clé <i>on_each</i> et en utilisant `*` avant les qubits. (`*` est utilisé en Python pour décompresser une liste)"
   ]
  },
  {
   "cell_type": "code",
   "execution_count": null,
   "metadata": {},
   "outputs": [],
   "source": [
    "circuit2 = cirq.Circuit()\n",
    "qliste = cirq.LineQubit.range(4)\n",
    "circuit2.append(H.on_each(*qliste))\n",
    "print(circuit2)"
   ]
  },
  {
   "cell_type": "markdown",
   "metadata": {},
   "source": [
    "La fonction <i>controlled</i> crée la version contrôlée d'une porte."
   ]
  },
  {
   "cell_type": "code",
   "execution_count": null,
   "metadata": {},
   "outputs": [],
   "source": [
    "CCCH =  H(qliste[2]).controlled_by(qliste[0],qliste[1],qliste[3])\n",
    "circuit2.append(CCCH)\n",
    "print(circuit2)"
   ]
  },
  {
   "cell_type": "markdown",
   "metadata": {},
   "source": [
    "On peut également définir l'opérateur avant de l'appliquer aux qubits."
   ]
  },
  {
   "cell_type": "code",
   "execution_count": null,
   "metadata": {},
   "outputs": [],
   "source": [
    "CCCZ = Z.controlled(3)\n",
    "circuit2.append(CCCZ(*qliste[0:4]))\n",
    "print(circuit2)"
   ]
  },
  {
   "cell_type": "markdown",
   "metadata": {},
   "source": [
    "On peut définir des nouvelles portes avec des opérations arithmétiques"
   ]
  },
  {
   "cell_type": "code",
   "execution_count": null,
   "metadata": {
    "scrolled": true
   },
   "outputs": [],
   "source": [
    "ROOTX = X**0.5\n",
    "circuit2.append(ROOTX(qliste[1]))\n",
    "print(circuit2)"
   ]
  },
  {
   "cell_type": "markdown",
   "metadata": {},
   "source": [
    "### Exercise 2\n",
    "    \n",
    "Créez un circuit avec 10 qubits. \n",
    "\n",
    "1. Appliquez les portes $H$ à tous les qubits.\n",
    "2. Appliquez la porte $X$ au qubit 0 contrôlé par les qubits 1-9\n",
    "3. Appliquez les portes $H$ à tous les qubits.\n",
    "\n",
    "Visualisez le circuit."
   ]
  },
  {
   "cell_type": "code",
   "execution_count": null,
   "metadata": {},
   "outputs": [],
   "source": [
    "import cirq\n",
    "from cirq import H, X\n",
    "\n",
    "#\n",
    "# Your solution here\n",
    "#\n"
   ]
  },
  {
   "cell_type": "markdown",
   "metadata": {},
   "source": [
    "<hr>\n",
    "<h2>Exécuter des circuits</h2>"
   ]
  },
  {
   "cell_type": "markdown",
   "metadata": {},
   "source": [
    "Une façon d'obtenir des résultats de votre circuit est de le mesurer et de l'exécuter plusieurs fois."
   ]
  },
  {
   "cell_type": "code",
   "execution_count": null,
   "metadata": {},
   "outputs": [],
   "source": [
    "import cirq\n",
    "from cirq import H, measure\n",
    "\n",
    "# Création de registres quantique et classique à deux qubits\n",
    "qliste = cirq.LineQubit.range(2)\n",
    "\n",
    "# Création du circuit\n",
    "circuit = cirq.Circuit()\n",
    "\n",
    "# Application de la porte H au qubit 0\n",
    "circuit.append(H(qliste[0]))\n",
    "\n",
    "# Mesure des qubits\n",
    "circuit.append(measure(*qliste, key='resultat'))"
   ]
  },
  {
   "cell_type": "markdown",
   "metadata": {},
   "source": [
    "Cirq peut simuler des circuits avec jusqu'à 20 qubits. Nous initialisons le <i>simulateur</i> et exécutons notre circuit plusieurs fois pour prélever des échantillons."
   ]
  },
  {
   "cell_type": "code",
   "execution_count": null,
   "metadata": {},
   "outputs": [],
   "source": [
    "# Simulateur local\n",
    "s = cirq.Simulator()\n",
    "\n",
    "# \"circuit\" est le circuit à être exécuté\n",
    "# \"repetitions\" est le nombre de fois que nous voulons exécuter le circuit\n",
    "echantillons=s.run(circuit, repetitions=1000)\n",
    "\n",
    "# Stocker les résultats dans une liste\n",
    "print(echantillons.histogram(key='resultat'))"
   ]
  },
  {
   "cell_type": "markdown",
   "metadata": {},
   "source": [
    "Notez que les résultats sont sous forme décimale (c'est-à-dire 2 au lieu de <10>). Nous pouvons obtenir la représentation de l'état comme suit."
   ]
  },
  {
   "cell_type": "code",
   "execution_count": null,
   "metadata": {},
   "outputs": [],
   "source": [
    "def bitstring(bits):\n",
    "    return \"\".join(str(int(b)) for b in bits)\n",
    "\n",
    "counts = echantillons.histogram(key=\"resultat\",fold_func=bitstring)\n",
    "print(counts)"
   ]
  },
  {
   "cell_type": "markdown",
   "metadata": {},
   "source": [
    "Cirq fournit également la liste de tous les résultats de mesure."
   ]
  },
  {
   "cell_type": "code",
   "execution_count": null,
   "metadata": {},
   "outputs": [],
   "source": [
    "resultat = echantillons.measurements[\"resultat\"]\n",
    "print(resultat)"
   ]
  },
  {
   "cell_type": "markdown",
   "metadata": {},
   "source": [
    "Il est également possible de ne mesurer que certains des qubits. Ne mesurons que qliste[0] cette fois."
   ]
  },
  {
   "cell_type": "code",
   "execution_count": null,
   "metadata": {
    "scrolled": true
   },
   "outputs": [],
   "source": [
    "import cirq\n",
    "from cirq import H, measure\n",
    "\n",
    "# Création des registres quantique et classique pour deux qubits\n",
    "qliste = cirq.LineQubit.range(2)\n",
    "\n",
    "# Création du circuit\n",
    "circuit = cirq.Circuit()\n",
    "\n",
    "# Application de la porte H au qubit 0\n",
    "circuit.append(H(qliste[0]))\n",
    "\n",
    "# Mesurer les deux qubits, résultat est l'étiquette\n",
    "circuit.append(measure(qliste[0], key='resultat'))\n",
    "\n",
    "# Simulateur local\n",
    "s = cirq.Simulator()\n",
    "\n",
    "echantillons=s.run(circuit, repetitions=1000)\n",
    "\n",
    "def bitstring(bits):\n",
    "    return \"\".join(str(int(b)) for b in bits)\n",
    "\n",
    "counts = echantillons.histogram(key=\"resultat\",fold_func=bitstring)\n",
    "print(counts)"
   ]
  },
  {
   "cell_type": "markdown",
   "metadata": {},
   "source": [
    "<a id=\"task3\"></a>\n",
    "### Exercise 3\n",
    "    \n",
    "Implémentez le circuit de l'exercise 1. Mesurez tous les qubits et simulez votre circuit 1000 fois."
   ]
  },
  {
   "cell_type": "code",
   "execution_count": null,
   "metadata": {},
   "outputs": [],
   "source": [
    "import cirq\n",
    "from cirq import H, CX, measure\n",
    "\n",
    "#\n",
    "# Your solution here\n",
    "#\n"
   ]
  },
  {
   "cell_type": "markdown",
   "metadata": {},
   "source": [
    "<hr>"
   ]
  },
  {
   "cell_type": "markdown",
   "metadata": {},
   "source": [
    "## Débogage des circuits - Représentation de l'état"
   ]
  },
  {
   "cell_type": "markdown",
   "metadata": {},
   "source": [
    "Il est possible d'obtenir l'état quantique exact à partir du simulateur. Vous ne devriez pas mesurer votre circuit avant d'avoir obtenu l'état.\n",
    "\n",
    "Nous utiliserons la fonction _simulate_ dans Cirq pour obtenir l'état quantique exact."
   ]
  },
  {
   "cell_type": "code",
   "execution_count": null,
   "metadata": {},
   "outputs": [],
   "source": [
    "import cirq\n",
    "from cirq import H, measure\n",
    "\n",
    "qliste = cirq.LineQubit.range(2)\n",
    "\n",
    "circuit = cirq.Circuit()\n",
    "\n",
    "circuit.append(H(qliste[0]))\n",
    "\n",
    "# Simulation du circuit\n",
    "resultats=s.simulate(circuit)\n",
    "print(resultats)"
   ]
  },
  {
   "cell_type": "markdown",
   "metadata": {},
   "source": [
    "Notez que puisque nous n'avons appliqué aucune porte sur qliste[1], elle n'est pas visible dans la sortie. Vérifions le circuit suivant."
   ]
  },
  {
   "cell_type": "code",
   "execution_count": null,
   "metadata": {},
   "outputs": [],
   "source": [
    "import cirq\n",
    "from cirq import H, I, measure\n",
    "\n",
    "qliste = cirq.LineQubit.range(2)\n",
    "\n",
    "circuit = cirq.Circuit()\n",
    "\n",
    "circuit.append(H(qliste[0]))\n",
    "\n",
    "# Application de la porte Identité au qubit1\n",
    "circuit.append(I(qliste[1]))\n",
    "\n",
    "# Simulation du circuit\n",
    "resultats=s.simulate(circuit)\n",
    "print(resultats)"
   ]
  },
  {
   "cell_type": "markdown",
   "metadata": {},
   "source": [
    "Si vous utilisez le simulateur après la mesure, vous observerez que l'état quantique s'est effondré à l'un des états."
   ]
  },
  {
   "cell_type": "code",
   "execution_count": null,
   "metadata": {},
   "outputs": [],
   "source": [
    "circuit.append(measure(*qliste))\n",
    "resultats=s.simulate(circuit)\n",
    "print(resultats)"
   ]
  },
  {
   "cell_type": "markdown",
   "metadata": {},
   "source": [
    "Si nous simulons un circuit lorsqu'il y a plus que 3 qubits, alors l'état quantique est représenté sous forme vectorielle au lieu de la notation de Dirac."
   ]
  },
  {
   "cell_type": "code",
   "execution_count": null,
   "metadata": {},
   "outputs": [],
   "source": [
    "import cirq\n",
    "from cirq import H, measure\n",
    "\n",
    "qliste = cirq.LineQubit.range(4)\n",
    "\n",
    "circuit = cirq.Circuit()\n",
    "\n",
    "circuit.append(H.on_each(*qliste))\n",
    "\n",
    "results=s.simulate(circuit)\n",
    "print(results)"
   ]
  },
  {
   "cell_type": "markdown",
   "metadata": {},
   "source": [
    "### Exercise 4\n",
    "    \n",
    "Créez un circuit quantique avec 4 qubits. Appliquez la porte Hadamard à chaque qubit et la porte $CZ$ aux qubits 0 et 1. Utilisez le simulateur sans mesurer le circuit. Vérifiez les entrées avec un signe négatif."
   ]
  },
  {
   "cell_type": "code",
   "execution_count": null,
   "metadata": {},
   "outputs": [],
   "source": [
    "import cirq\n",
    "from cirq import H, CZ\n",
    "\n",
    "#\n",
    "# Your solution here\n",
    "#"
   ]
  },
  {
   "cell_type": "markdown",
   "metadata": {},
   "source": [
    "<hr>\n",
    "<h2>Matrice unitaire</h2>"
   ]
  },
  {
   "cell_type": "markdown",
   "metadata": {},
   "source": [
    "Il est possible d'obtenir une représentation matricielle <i>unitaire</i> des portes et des circuits."
   ]
  },
  {
   "cell_type": "code",
   "execution_count": null,
   "metadata": {},
   "outputs": [],
   "source": [
    "from cirq import CX, X\n",
    "\n",
    "ROOTX = X**0.5\n",
    "\n",
    "print('représentation matricielle unitaire de la porte CNOT')\n",
    "print(cirq.unitary(CX))\n",
    "print('représentation matricielle unitaire CROOTX')\n",
    "print(cirq.unitary(ROOTX))"
   ]
  },
  {
   "cell_type": "code",
   "execution_count": null,
   "metadata": {
    "scrolled": true
   },
   "outputs": [],
   "source": [
    "print(\"représentation matricielle unitaire de l'opérateur H sur 2 qubits\")\n",
    "qliste = cirq.LineQubit.range(2)\n",
    "circuit = cirq.Circuit()\n",
    "circuit.append(cirq.H.on_each(*qliste))\n",
    "print(cirq.unitary(circuit))"
   ]
  },
  {
   "cell_type": "code",
   "execution_count": null,
   "metadata": {},
   "outputs": [],
   "source": []
  }
 ],
 "metadata": {
  "kernelspec": {
   "display_name": "Python 3 (ipykernel)",
   "language": "python",
   "name": "python3"
  },
  "language_info": {
   "codemirror_mode": {
    "name": "ipython",
    "version": 3
   },
   "file_extension": ".py",
   "mimetype": "text/x-python",
   "name": "python",
   "nbconvert_exporter": "python",
   "pygments_lexer": "ipython3",
   "version": "3.11.3"
  }
 },
 "nbformat": 4,
 "nbformat_minor": 4
}
