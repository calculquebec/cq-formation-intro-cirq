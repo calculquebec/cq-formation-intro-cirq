{
 "cells": [
  {
   "cell_type": "markdown",
   "metadata": {},
   "source": [
    "<table width=\"100%\"><tr><td style=\"color:#bbbbbb;background-color:#ffffff;font-size:11px;font-style:italic;text-align:right;\">Cette cellule contient des macros. S'il y a un problème avec l'affichage des formules mathématiques, veuillez exécuter cette cellule pour charger ces macros. </td></tr></table>\n",
    "$ \\newcommand{\\bra}[1]{\\langle #1|} $\n",
    "$ \\newcommand{\\ket}[1]{|#1\\rangle} $\n",
    "$ \\newcommand{\\braket}[2]{\\langle #1|#2\\rangle} $\n",
    "$ \\newcommand{\\dot}[2]{ #1 \\cdot #2} $\n",
    "$ \\newcommand{\\biginner}[2]{\\left\\langle #1,#2\\right\\rangle} $\n",
    "$ \\newcommand{\\mymatrix}[2]{\\left( \\begin{array}{#1} #2\\end{array} \\right)} $\n",
    "$ \\newcommand{\\myvector}[1]{\\mymatrix{c}{#1}} $\n",
    "$ \\newcommand{\\myrvector}[1]{\\mymatrix{r}{#1}} $\n",
    "$ \\newcommand{\\mypar}[1]{\\left( #1 \\right)} $\n",
    "$ \\newcommand{\\mybigpar}[1]{ \\Big( #1 \\Big)} $\n",
    "$ \\newcommand{\\sqrttwo}{\\frac{1}{\\sqrt{2}}} $\n",
    "$ \\newcommand{\\dsqrttwo}{\\dfrac{1}{\\sqrt{2}}} $\n",
    "$ \\newcommand{\\onehalf}{\\frac{1}{2}} $\n",
    "$ \\newcommand{\\donehalf}{\\dfrac{1}{2}} $\n",
    "$ \\newcommand{\\hadamard}{ \\mymatrix{rr}{ \\sqrttwo & \\sqrttwo \\\\ \\sqrttwo & -\\sqrttwo }} $\n",
    "$ \\newcommand{\\vzero}{\\myvector{1\\\\0}} $\n",
    "$ \\newcommand{\\vone}{\\myvector{0\\\\1}} $\n",
    "$ \\newcommand{\\vhadamardzero}{\\myvector{ \\sqrttwo \\\\  \\sqrttwo } } $\n",
    "$ \\newcommand{\\vhadamardone}{ \\myrvector{ \\sqrttwo \\\\ -\\sqrttwo } } $\n",
    "$ \\newcommand{\\myarray}[2]{ \\begin{array}{#1}#2\\end{array}} $\n",
    "$ \\newcommand{\\X}{ \\mymatrix{cc}{0 & 1 \\\\ 1 & 0}  } $\n",
    "$ \\newcommand{\\Z}{ \\mymatrix{rr}{1 & 0 \\\\ 0 & -1}  } $\n",
    "$ \\newcommand{\\Htwo}{ \\mymatrix{rrrr}{ \\frac{1}{2} & \\frac{1}{2} & \\frac{1}{2} & \\frac{1}{2} \\\\ \\frac{1}{2} & -\\frac{1}{2} & \\frac{1}{2} & -\\frac{1}{2} \\\\ \\frac{1}{2} & \\frac{1}{2} & -\\frac{1}{2} & -\\frac{1}{2} \\\\ \\frac{1}{2} & -\\frac{1}{2} & -\\frac{1}{2} & \\frac{1}{2} } } $\n",
    "$ \\newcommand{\\CNOT}{ \\mymatrix{cccc}{1 & 0 & 0 & 0 \\\\ 0 & 1 & 0 & 0 \\\\ 0 & 0 & 0 & 1 \\\\ 0 & 0 & 1 & 0} } $\n",
    "$ \\newcommand{\\norm}[1]{ \\left\\lVert #1 \\right\\rVert } $"
   ]
  },
  {
   "cell_type": "markdown",
   "metadata": {},
   "source": [
    "<h2> Matrices: listes à plusieurs dimensions </h2>\n",
    "\n",
    "Une matrice est une liste de vecteurs où toutes les vecteurs ont la même dimension.\n",
    "\n",
    "Voici un exemple de 4 vecteurs à 5 dimensions:\n",
    "\n",
    "$$\n",
    "    M = \\mymatrix{rrrrr}{8 & 0 & -1 & 0 & 2 \\\\ -2 & -3 & 1 & 1 & 4 \\\\ 0 & 0 & 1 & -7 & 1 \\\\ 1 & 4 & -2 & 5 & 9}.\n",
    "$$\n",
    "\n",
    "La matrice $M$ peut également être considérée comme étant formée de 5 vecteurs colonnes avec 4 dimensions chacun.\n",
    "\n",
    "Les dimensions de $M$ sont $ (4 \\times 5) $.\n",
    "\n",
    "La matrice $M$ est représenté par une liste en deux dimensions en Python.    "
   ]
  },
  {
   "cell_type": "code",
   "execution_count": null,
   "metadata": {},
   "outputs": [],
   "source": [
    "# Écriture intuitive de M\n",
    "M = [ \n",
    "    [8 , 0 , -1 , 0 , 2], \n",
    "    [-2 , -3 , 1 , 1 , 4], \n",
    "    [0 , 0 , 1 , -7 , 1],\n",
    "    [1 , 4 , -2 , 5 , 9]\n",
    "] \n",
    "\n",
    "print(M)"
   ]
  },
  {
   "cell_type": "code",
   "execution_count": null,
   "metadata": {},
   "outputs": [],
   "source": [
    "# Imprime M en format matrice, rangée par rangée\n",
    "\n",
    "for i in range(4): # il y a 4 rangées\n",
    "    print(M[i])"
   ]
  },
  {
   "cell_type": "markdown",
   "metadata": {},
   "source": [
    "L'index des rangées et colonnes commence par 1, par définition. Avec Python, par contre, les indices commencent à zéro.\n",
    "\n",
    "L'élément $ (i,j) $ de $ M $ correspond à l'élément de la rangée $ i $ et de la colonne $ j $.\n",
    "\n",
    "(On peut aussi le noté comme $ M[i,j] $, $ M(i,j) $, ou $ M_{ij} $.)\n",
    "\n",
    "Voici un exemple:"
   ]
  },
  {
   "cell_type": "code",
   "execution_count": null,
   "metadata": {},
   "outputs": [],
   "source": [
    "M = [ \n",
    "    [8 , 0 , -1 , 0 , 2], \n",
    "    [-2 , -3 , 1 , 1 , 4], \n",
    "    [0 , 0 , 1 , -7 , 1],\n",
    "    [1 , 4 , -2 , 5 , 9]\n",
    "] \n",
    "\n",
    "# L'élément de la rangée 1 et de la colonne 1.\n",
    "print(M[0][0])\n",
    "\n",
    "# L'élément de la rangée 3 et de la colonne 4.\n",
    "print(M[2][3])\n",
    "\n",
    "# L'élément de la rangée 4 et de la colonne 5.\n",
    "print(M[3][4])"
   ]
  },
  {
   "cell_type": "markdown",
   "metadata": {},
   "source": [
    "<h3> Multiplication d'une matrice par un scalaire </h3>\n",
    "\n",
    "Chaque élément de $ M $ est multiplié par $ -2 $"
   ]
  },
  {
   "cell_type": "markdown",
   "metadata": {},
   "source": [
    "Si la matrice $ N= -2 M $:\n",
    "\n",
    "$$\n",
    "  N= -2 M = \\mymatrix{rrrrr}{-16 & 0 & 2 & 0 & -4 \\\\ 4 & 6 & -2 & -2 & -8 \\\\ 0 & 0 & -2 & 14 & -2 \\\\ -2 & -8 & 4 & -10 & -18}.\n",
    "$$"
   ]
  },
  {
   "cell_type": "markdown",
   "metadata": {},
   "source": [
    "<h3> Transposée d'une matrice</h3>\n",
    "\n",
    "La transposée d'une matrice s'obtient en intervertissant les lignes et les colonnes. \n",
    "\n",
    "La transposée d'une matrice $ M $ est notée $ M^T $.\n",
    "\n",
    "Voici deux exemples.\n",
    "\n",
    "$$\n",
    "    M = \\mymatrix{rrrr}{-2 & 3 & 0 & 4\\\\ -1 & 1 & 5 & 9} ~~~~~ \\Rightarrow ~~~~~ M^T=\\mymatrix{rr}{-2 & -1 \\\\ 3 & 1 \\\\ 0 & 5 \\\\ 4 & 9}  ~~~~~~~~ \\mbox{ and } ~~~~~~~~\n",
    "    N = \\mymatrix{ccc}{1 & 2 & 3 \\\\ 4 & 5 & 6 \\\\ 7 & 8 & 9} ~~~~~ \\Rightarrow ~~~~~ N^T = \\mymatrix{ccc}{1 & 4 & 7 \\\\ 2 & 5 & 8 \\\\ 3 & 6 & 9}.\n",
    "$$\n",
    "\n",
    "Brièvement, $ M[i,j] = M^T[j,i] $ et $ N[i,j] = N^T[j,i] $. (Les indices sont interverties.)"
   ]
  },
  {
   "cell_type": "code",
   "execution_count": null,
   "metadata": {},
   "outputs": [],
   "source": [
    "import numpy as np\n",
    "#Transpose les matrices M et N\n",
    "\n",
    "M = np.array([\n",
    "    [-2,3,0,4],\n",
    "    [-1,1,5,9]      \n",
    "])\n",
    "N = np.array([\n",
    "    [1,2,3],\n",
    "    [4,5,6],\n",
    "    [7,8,9]\n",
    "])\n",
    "\n",
    "print(\"La matrice M est\")\n",
    "print(M)\n",
    "print(\"La transposée de M est\")\n",
    "print(M.transpose())\n",
    "\n",
    "print(\"La matrice N est\")\n",
    "print(N)\n",
    "print(\"La transposée de N est\")\n",
    "print(N.transpose())"
   ]
  },
  {
   "cell_type": "markdown",
   "metadata": {},
   "source": [
    "<h3> Multiplication d'une matrice avec un vecteur </h3>\n",
    "\n",
    "On définit une matrice $ M $ et un vecteur colonne $ v $:\n",
    "\n",
    "$$\n",
    "    M = \\mymatrix{rrr}{-1 & 0 & 1 \\\\ -2 & -3 & 4 \\\\ 1 & 5 & 6} ~~~~~~\\mbox{and}~~~~~~ v = \\myrvector{1 \\\\ -3 \\\\ 2}.\n",
    "$$\n",
    "\n",
    "La multiplication de $ M v $ est un nouveau vecteur $ u $ tel que $ u = M v $:\n",
    "<ul>\n",
    "    <li> Le premier élément de $u $ est le produit scalaire de la première rangée de $ M $ et $ v $.</li>\n",
    "    <li> Le second élément de u $ est le produit scalaire de la deuxième rangée de $M$ et $ v $.</li>\n",
    "    <li> Le troisième élément $ u $ est le produit scalaire de la troisième rangée de $M$ et $v$. </li>\n",
    "</ul>\n",
    "\n",
    "Par exemple:"
   ]
  },
  {
   "cell_type": "code",
   "execution_count": null,
   "metadata": {},
   "outputs": [],
   "source": [
    "# Matrice M\n",
    "M = np.array([\n",
    "    [-1,0,1],\n",
    "    [-2,-3,4],\n",
    "    [1,5,6]\n",
    "])\n",
    "\n",
    "# Vecteur v\n",
    "v = np.array([1,-3,2])\n",
    "\n",
    "# Le vecteur résultant u\n",
    "u = np.dot(M,v)\n",
    "\n",
    "# for each row, we do an inner product\n",
    "#for i in range(3):\n",
    "#    # inner product for one row is initiated\n",
    "#    inner_result = 0 # this variable keeps the summation of the pairwise multiplications\n",
    "#    for j in range(3): # the elements in the i-th row\n",
    "#        inner_result = inner_result + M[i][j] * v[j]\n",
    "    # inner product for one row is completed\n",
    "#    u.append(inner_result)\n",
    "\n",
    "print(\"M est\")\n",
    "print(M)\n",
    "print()\n",
    "print(\"v=\",v)\n",
    "print()\n",
    "print(\"u=\",u)"
   ]
  },
  {
   "cell_type": "markdown",
   "metadata": {},
   "source": [
    "<h4>Vérification du calcul:</h4>\n",
    "\n",
    "$$\n",
    " \\mbox{Première rangée:}~~~~  \\myrvector{-1 \\\\ 0 \\\\ 1} \\cdot \\myrvector{1 \\\\ -3 \\\\ 2}  = (-1)\\cdot 1 + 0 \\cdot (-3) + 1 \\cdot 2 = -1 + 0 + 2 = 1.\n",
    "$$\n",
    "$$\n",
    " \\mbox{Deuxième rangée:}~~~~  \\myrvector{-2 \\\\ -3 \\\\ 4} \\cdot\\myrvector{1 \\\\ -3 \\\\ 2}  = (-2)\\cdot 1 + (-3) \\cdot (-3) + 4 \\cdot 2 = -2 + 9 + 8 = 15.\n",
    "$$\n",
    "$$\n",
    " \\mbox{Troisième rangée:}~~~~  \\myrvector{1 \\\\ 5 \\\\ 6} \\cdot \\myrvector{1 \\\\ -3 \\\\ 2}  = 1\\cdot 1 + 5 \\cdot (-3) + 6 \\cdot 2 = 1 - 15 + 12 = -2.\n",
    "$$\n",
    "\n",
    "Alors,\n",
    "$$\n",
    "    u = \\myrvector{1 \\\\ 15 \\\\ -2 }.\n",
    "$$"
   ]
  },
  {
   "cell_type": "markdown",
   "metadata": {},
   "source": [
    "<b>Notes:</b> \n",
    "<ul>\n",
    "    <li> La dimensionalité des rangées de $ M $ est la même $ v $. Autrement, le produit scalaire n'est pas défini.</li>\n",
    "    <li> La dimension du vecteur résultant est le même nombre de rangées que $ M $, puisqu'on fait le produit scalaire de chaque rangée $ M $</li>\n",
    "</ul>"
   ]
  },
  {
   "cell_type": "markdown",
   "metadata": {},
   "source": [
    "<h3> Multiplication de deux matrices </h3>\n",
    "\n",
    "La procédure est une généralisation de la multiplication d'une matrice avec un vecteur.\n",
    "\n",
    "On calcule la matrice $ K = M N $ pour les matrices\n",
    "$\n",
    "    M = \\mymatrix{rrr}{-1 & 0 & 1 \\\\ -2 & -1 & 2 \\\\ 1 & 2 & -2} ~~\\mbox{and}~~ \n",
    "    N = \\mymatrix{rrr}{0 & 2 & 1 \\\\ 3 & -1 & -2 \\\\ -1 & 1 & 0}.\n",
    "$"
   ]
  },
  {
   "cell_type": "markdown",
   "metadata": {},
   "source": [
    "Remark that the matrix $ N $ has three columns: $ v_1 = \\myrvector{0 \\\\ 3 \\\\ -1} $, $ v_2 = \\myrvector{2 \\\\ -1 \\\\ 1} $, and $ v_3 = \\myrvector{1 \\\\ -2 \\\\ 0} $.\n",
    "\n",
    "Le produit scalaire de la rangée i $ M $ avec la colonne $ j $ de $ N $ donne l'élément $(i,j)$ de la matrice $ K $."
   ]
  },
  {
   "cell_type": "markdown",
   "metadata": {},
   "source": [
    "<h3> Produit tensorielle </h3>\n",
    "\n",
    "Considérons les vecteurs: $ u = \\myrvector{-2\\\\3} $ et $ v = \\myrvector{1 \\\\ 2 \\\\ -3} $.\n",
    "\n",
    "Le produit tensorielle de $u$ et $ v $ est exprimé par $ u \\otimes v $.\n",
    "\n",
    "$$\n",
    "    u \\otimes v =  \\myrvector{-2\\\\3} \\otimes \\myrvector{1 \\\\ 2 \\\\ -3} =\n",
    "   \\myrvector{ -2 \\cdot  \\myrvector{1 \\\\ 2 \\\\ -3} \\\\ 3 \\cdot  \\myrvector{1 \\\\ 2 \\\\ -3} } =\n",
    "   \\myrvector{ -2 \\\\ -4 \\\\ 6 \\\\ 3 \\\\ 6 \\\\ -9 }.\n",
    "$$\n",
    "\n",
    "Exemple de $ v \\otimes u $ en Python."
   ]
  },
  {
   "cell_type": "code",
   "execution_count": null,
   "metadata": {},
   "outputs": [],
   "source": [
    "# vecteur v\n",
    "v = [1,2,-3]\n",
    "# vecteur u\n",
    "u=[-2,3]\n",
    "\n",
    "vu = np.kron(v,u)\n",
    "\n",
    "print(\"v=\",v)\n",
    "print(\"u=\",u)\n",
    "print(\"vu=\",vu)"
   ]
  },
  {
   "cell_type": "markdown",
   "metadata": {},
   "source": [
    "\n",
    "<b>Exemple de produit tensorielle entre deux matrices</b>"
   ]
  },
  {
   "cell_type": "code",
   "execution_count": null,
   "metadata": {},
   "outputs": [],
   "source": [
    "# matrice M\n",
    "M = np.array([ \n",
    "    [-1,0,1],\n",
    "    [-2,-1,2],\n",
    "    [1,2,-2]\n",
    "])\n",
    "\n",
    "# matrice N\n",
    "N = np.array([\n",
    "    [0,2,1],\n",
    "    [3,-1,-2],\n",
    "    [-1,1,0]\n",
    "])\n",
    "\n",
    "# produit tensorielle de M et N\n",
    "MN = np.kron(M,N)\n",
    "\n",
    "print(\"M-tenseur-N est\")                \n",
    "print(MN)"
   ]
  },
  {
   "cell_type": "markdown",
   "metadata": {},
   "source": [
    "<hr>"
   ]
  },
  {
   "cell_type": "markdown",
   "metadata": {},
   "source": [
    "<h2>Exercises</h2>"
   ]
  },
  {
   "cell_type": "markdown",
   "metadata": {},
   "source": [
    "<h3> Exercise 1 </h3>\n",
    "\n",
    "Calculez $ u' = N u $ pour la matrice $ N $ et le vecteur colonne $ u $:\n",
    "\n",
    "$$\n",
    "    N = \\mymatrix{rrr}{-1 & 1 & 2 \\\\ 0 & -2 & -3 \\\\ 3 & 2 & 5 \\\\ 0 & 2 & -2} ~~~~~~\\mbox{and}~~~~~~ u = \\myrvector{2 \\\\ -1 \\\\ 3}.\n",
    "$$"
   ]
  },
  {
   "cell_type": "code",
   "execution_count": null,
   "metadata": {},
   "outputs": [],
   "source": [
    "#\n",
    "# votre solution est ici\n",
    "#\n"
   ]
  },
  {
   "cell_type": "markdown",
   "metadata": {},
   "source": [
    "<h3> Exercise 2 </h3>\n",
    "\n",
    "Trouvez la matrice $ K = MN $ pour les matrices \n",
    "$\n",
    "    M = \\mymatrix{rrr}{-1 & 0 & 1 \\\\ -2 & -1 & 2 \\\\ 1 & 2 & -2} ~~\\mbox{and}~~ \n",
    "    N = \\mymatrix{rrr}{0 & 2 & 1 \\\\ 3 & -1 & -2 \\\\ -1 & 1 & 0}.\n",
    "$"
   ]
  },
  {
   "cell_type": "code",
   "execution_count": null,
   "metadata": {},
   "outputs": [],
   "source": [
    "# matrice M\n",
    "M = np.array([\n",
    "    [-1,0,1],\n",
    "    [-2,-1,2],\n",
    "    [1,2,-2]\n",
    "])\n",
    "\n",
    "# matrice N\n",
    "N = np.array([\n",
    "    [0,2,1],\n",
    "    [3,-1,-2],\n",
    "    [-1,1,0]\n",
    "])\n",
    "\n",
    "# matrice K = MN\n",
    "\n",
    "#\n",
    "# votre solution est ici\n",
    "#\n"
   ]
  },
  {
   "cell_type": "markdown",
   "metadata": {},
   "source": [
    "<h3> Exercise 3 </h3>\n",
    "\n",
    "Définissez deux matrices  $A$ et $ B $ avec éléments aléatoires de dimension $ (2 \\times 2) $. \n",
    "\n",
    "Ensuite, trouvez $ C= AB-BA $. \n",
    "\n",
    "<i>Note: Si par hasard, les multiplication des matrices $ (A,B) $ produisent $ AB = BA $, recommencez la génération des nombres aléatoires."
   ]
  },
  {
   "cell_type": "code",
   "execution_count": null,
   "metadata": {},
   "outputs": [],
   "source": [
    "#\n",
    "# votre solution est ici\n",
    "#\n"
   ]
  }
 ],
 "metadata": {
  "kernelspec": {
   "display_name": "Python 3 (ipykernel)",
   "language": "python",
   "name": "python3"
  },
  "language_info": {
   "codemirror_mode": {
    "name": "ipython",
    "version": 3
   },
   "file_extension": ".py",
   "mimetype": "text/x-python",
   "name": "python",
   "nbconvert_exporter": "python",
   "pygments_lexer": "ipython3",
   "version": "3.11.3"
  }
 },
 "nbformat": 4,
 "nbformat_minor": 4
}
