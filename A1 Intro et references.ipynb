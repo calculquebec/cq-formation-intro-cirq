{
 "cells": [
  {
   "cell_type": "markdown",
   "id": "0a7307cf-c2d2-4a0b-bb17-f4df6906c6d8",
   "metadata": {},
   "source": [
    "# Introduction à la programmation quantique avec CirQ\n",
    "## Calcul Québec\n",
    "\n",
    "**Instructrice**: Denise Koch\n",
    "\n",
    "**Algorithmes**: Antoine Lemelin et Vincent Brodeur"
   ]
  },
  {
   "cell_type": "markdown",
   "id": "b1e90f27-c937-43eb-a026-de2e3cefd639",
   "metadata": {},
   "source": [
    "## Interface Jupyter\n",
    "- Côté droit: les pages qu'on explore aujourd'hui (pour référence future)\n",
    "- Côté gauche: visualiser les pages\n",
    "- Créer une page vide: cliquer sur + à gauche et sur Julia\n",
    "    - renommer la page en cliquant sur le bouton droit de la souris et Rename\n",
    "- Par défaut, la cellule est pour du code, mais on peu le changer pour Raw ou Markdown\n",
    "- Ajouter des cellules en haut à droite de la cellule\n",
    "- Pour exécuter une cellule: Shift(Majuscule)+Entrer\n",
    "\n",
    "Markdown cheatsheet: https://www.ibm.com/docs/en/watson-studio-local/1.2.3?topic=notebooks-markdown-jupyter-cheatsheet "
   ]
  },
  {
   "cell_type": "markdown",
   "id": "7345f911-510d-47bc-b7ba-aea46027bf67",
   "metadata": {},
   "source": [
    "### Sauvegarder une page sur ordinateur local\n",
    "\n",
    "- Ouvrir la page et\n",
    "- File -> Save and Export Notebook as PDF\n",
    "- Lorsque terminé avec la page, on peut la fermer"
   ]
  },
  {
   "cell_type": "markdown",
   "id": "73448add",
   "metadata": {},
   "source": [
    "# Références et ressources\n",
    "\n",
    "## Informatique quantique\n",
    "- Nielsen, Michael A., and Isaac Chuang. \"Quantum computation and quantum information.\" (2010)\n",
    "- https://gitlab.com/qworld/bronze-qiskit\n",
    "- https://gitlab.com/qworld/silver\n",
    "- Aide-mémoire: https://www.meetiqm.com/resources/blog/quantum-computing-cheat-sheet-for-circuit-magicians/\n",
    "\n",
    "## Python\n",
    "- Formation sur les notions de base: https://swcarpentry.github.io/python-novice-inflammation/ \n",
    "- Didacticiel Numpy pour l'algèbre linéaire: https://realpython.com/numpy-tutorial/\n",
    "\n",
    "## CirQ\n",
    "- https://quantumai.google/cirq\n"
   ]
  },
  {
   "cell_type": "code",
   "execution_count": null,
   "id": "03fc8f24",
   "metadata": {},
   "outputs": [],
   "source": []
  }
 ],
 "metadata": {
  "kernelspec": {
   "display_name": "Python 3 (ipykernel)",
   "language": "python",
   "name": "python3"
  },
  "language_info": {
   "codemirror_mode": {
    "name": "ipython",
    "version": 3
   },
   "file_extension": ".py",
   "mimetype": "text/x-python",
   "name": "python",
   "nbconvert_exporter": "python",
   "pygments_lexer": "ipython3",
   "version": "3.10.9"
  }
 },
 "nbformat": 4,
 "nbformat_minor": 5
}
