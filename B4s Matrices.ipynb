{
 "cells": [
  {
   "cell_type": "markdown",
   "metadata": {},
   "source": [
    "<table width=\"100%\"><tr><td style=\"color:#bbbbbb;background-color:#ffffff;font-size:11px;font-style:italic;text-align:right;\">Cette cellule contient des macros. Exécutez la cellule si les formules ont des erreurs.</td></tr></table>\n",
    "$ \\newcommand{\\bra}[1]{\\langle #1|} $\n",
    "$ \\newcommand{\\ket}[1]{|#1\\rangle} $\n",
    "$ \\newcommand{\\braket}[2]{\\langle #1|#2\\rangle} $\n",
    "$ \\newcommand{\\dot}[2]{ #1 \\cdot #2} $\n",
    "$ \\newcommand{\\biginner}[2]{\\left\\langle #1,#2\\right\\rangle} $\n",
    "$ \\newcommand{\\mymatrix}[2]{\\left( \\begin{array}{#1} #2\\end{array} \\right)} $\n",
    "$ \\newcommand{\\myvector}[1]{\\mymatrix{c}{#1}} $\n",
    "$ \\newcommand{\\myrvector}[1]{\\mymatrix{r}{#1}} $\n",
    "$ \\newcommand{\\mypar}[1]{\\left( #1 \\right)} $\n",
    "$ \\newcommand{\\mybigpar}[1]{ \\Big( #1 \\Big)} $\n",
    "$ \\newcommand{\\sqrttwo}{\\frac{1}{\\sqrt{2}}} $\n",
    "$ \\newcommand{\\dsqrttwo}{\\dfrac{1}{\\sqrt{2}}} $\n",
    "$ \\newcommand{\\onehalf}{\\frac{1}{2}} $\n",
    "$ \\newcommand{\\donehalf}{\\dfrac{1}{2}} $\n",
    "$ \\newcommand{\\hadamard}{ \\mymatrix{rr}{ \\sqrttwo & \\sqrttwo \\\\ \\sqrttwo & -\\sqrttwo }} $\n",
    "$ \\newcommand{\\vzero}{\\myvector{1\\\\0}} $\n",
    "$ \\newcommand{\\vone}{\\myvector{0\\\\1}} $\n",
    "$ \\newcommand{\\vhadamardzero}{\\myvector{ \\sqrttwo \\\\  \\sqrttwo } } $\n",
    "$ \\newcommand{\\vhadamardone}{ \\myrvector{ \\sqrttwo \\\\ -\\sqrttwo } } $\n",
    "$ \\newcommand{\\myarray}[2]{ \\begin{array}{#1}#2\\end{array}} $\n",
    "$ \\newcommand{\\X}{ \\mymatrix{cc}{0 & 1 \\\\ 1 & 0}  } $\n",
    "$ \\newcommand{\\Z}{ \\mymatrix{rr}{1 & 0 \\\\ 0 & -1}  } $\n",
    "$ \\newcommand{\\Htwo}{ \\mymatrix{rrrr}{ \\frac{1}{2} & \\frac{1}{2} & \\frac{1}{2} & \\frac{1}{2} \\\\ \\frac{1}{2} & -\\frac{1}{2} & \\frac{1}{2} & -\\frac{1}{2} \\\\ \\frac{1}{2} & \\frac{1}{2} & -\\frac{1}{2} & -\\frac{1}{2} \\\\ \\frac{1}{2} & -\\frac{1}{2} & -\\frac{1}{2} & \\frac{1}{2} } } $\n",
    "$ \\newcommand{\\CNOT}{ \\mymatrix{cccc}{1 & 0 & 0 & 0 \\\\ 0 & 1 & 0 & 0 \\\\ 0 & 0 & 0 & 1 \\\\ 0 & 0 & 1 & 0} } $\n",
    "$ \\newcommand{\\norm}[1]{ \\left\\lVert #1 \\right\\rVert } $"
   ]
  },
  {
   "cell_type": "markdown",
   "metadata": {},
   "source": [
    "<h2> Solutions pour la section <b> Matrices </b> </h2>"
   ]
  },
  {
   "cell_type": "markdown",
   "metadata": {},
   "source": [
    "<a id=\"task1\"></a>\n",
    "<h3> Exercise 1 </h3>\n",
    "\n",
    "Calculez $ u' = N u $ pour la matrice $ N $ et le vecteur colonne $ u $:\n",
    "\n",
    "$$\n",
    "    N = \\mymatrix{rrr}{-1 & 1 & 2 \\\\ 0 & -2 & -3 \\\\ 3 & 2 & 5 \\\\ 0 & 2 & -2} ~~~~~~\\mbox{et}~~~~~~ u = \\myrvector{2 \\\\ -1 \\\\ 3}.\n",
    "$$"
   ]
  },
  {
   "cell_type": "markdown",
   "metadata": {},
   "source": [
    "<h4>Solution</h4>"
   ]
  },
  {
   "cell_type": "code",
   "execution_count": null,
   "metadata": {},
   "outputs": [],
   "source": [
    "import numpy as np\n",
    "\n",
    "N = np.array([\n",
    "    [-1,1,2],\n",
    "    [0,-2,-3],\n",
    "    [3,2,5],\n",
    "    [0,2,-2]\n",
    "])\n",
    "\n",
    "u = np.array([2,-1,3])\n",
    "\n",
    "print(\"N est\")\n",
    "print(N)\n",
    "\n",
    "print()\n",
    "print(\"u est\",u)\n",
    "\n",
    "u_prime = np.dot(N,u)\n",
    "\n",
    "print()\n",
    "print(\"u' est\",u_prime)    "
   ]
  },
  {
   "cell_type": "markdown",
   "metadata": {},
   "source": [
    "<hr>"
   ]
  },
  {
   "cell_type": "markdown",
   "metadata": {},
   "source": [
    "<h3> Exercise 2 </h3>\n",
    "\n",
    "Trouvez la matrice $ K = MN $ pour les matrices \n",
    "$\n",
    "    M = \\mymatrix{rrr}{-1 & 0 & 1 \\\\ -2 & -1 & 2 \\\\ 1 & 2 & -2} ~~\\mbox{et}~~ \n",
    "    N = \\mymatrix{rrr}{0 & 2 & 1 \\\\ 3 & -1 & -2 \\\\ -1 & 1 & 0}.\n",
    "$"
   ]
  },
  {
   "cell_type": "markdown",
   "metadata": {},
   "source": [
    "<h4>Solution</h4>"
   ]
  },
  {
   "cell_type": "code",
   "execution_count": null,
   "metadata": {},
   "outputs": [],
   "source": [
    "# matrice M\n",
    "M = np.array([\n",
    "    [-1,0,1],\n",
    "    [-2,-1,2],\n",
    "    [1,2,-2]\n",
    "])\n",
    "\n",
    "# matrice N\n",
    "N = np.array([\n",
    "    [0,2,1],\n",
    "    [3,-1,-2],\n",
    "    [-1,1,0]\n",
    "])\n",
    "\n",
    "# matrice K = MN\n",
    "K = np.dot(M,N)\n",
    "\n",
    "print(\"M est\")\n",
    "print(M)\n",
    "\n",
    "print()\n",
    "print(\"N est\")\n",
    "print(N)\n",
    "\n",
    "print()\n",
    "print(\"K est\")\n",
    "print(K)"
   ]
  },
  {
   "cell_type": "markdown",
   "metadata": {},
   "source": [
    "<hr>"
   ]
  },
  {
   "cell_type": "markdown",
   "metadata": {},
   "source": [
    "<h3> Exercise 3 </h3>\n",
    "\n",
    "Définissez deux matrices  $A$ et $ B $ avec éléments aléatoires de dimension $ (2 \\times 2) $. \n",
    "\n",
    "Ensuite, trouvez $ C= AB-BA $. \n",
    "\n",
    "<i>Note: Si par hasard, les multiplication des matrices $ (A,B) $ produisent $ AB = BA $, recommencez la génération des nombres aléatoires."
   ]
  },
  {
   "cell_type": "markdown",
   "metadata": {},
   "source": [
    "<h4>Solution</h4>"
   ]
  },
  {
   "cell_type": "code",
   "execution_count": null,
   "metadata": {},
   "outputs": [],
   "source": [
    "import numpy as np\n",
    "from random import randrange\n",
    "\n",
    "# créer A, B, AB, BA, DIFF en même temps\n",
    "A = np.random.randint(-10,10,(2,2))\n",
    "B = np.random.randint(-10,10,(2,2))\n",
    "AB = np.zeros((2,2))\n",
    "BA = np.zeros((2,2))\n",
    "DIFF = np.zeros((2,2))\n",
    "\n",
    "print(\"A =\",A)\n",
    "print(\"B =\",B)\n",
    "print() \n",
    "\n",
    "# calcul de AB\n",
    "AB = np.dot(A,B)\n",
    "\n",
    "print() \n",
    "print(\"AB =\",AB)\n",
    "\n",
    "# calcul de BA\n",
    "BA = np.dot(B,A)\n",
    "\n",
    "print(\"BA =\",BA)\n",
    "\n",
    "# calcul de DIFF = AB- BA\n",
    "DIFF = AB - BA\n",
    "\n",
    "print() # print a line        \n",
    "print(\"DIFF = AB - BA =\",DIFF)        "
   ]
  }
 ],
 "metadata": {
  "kernelspec": {
   "display_name": "Python 3 (ipykernel)",
   "language": "python",
   "name": "python3"
  },
  "language_info": {
   "codemirror_mode": {
    "name": "ipython",
    "version": 3
   },
   "file_extension": ".py",
   "mimetype": "text/x-python",
   "name": "python",
   "nbconvert_exporter": "python",
   "pygments_lexer": "ipython3",
   "version": "3.10.9"
  }
 },
 "nbformat": 4,
 "nbformat_minor": 4
}
