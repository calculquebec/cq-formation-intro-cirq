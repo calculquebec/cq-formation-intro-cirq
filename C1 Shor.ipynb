{
 "cells": [
  {
   "cell_type": "code",
   "execution_count": 1,
   "metadata": {},
   "outputs": [],
   "source": [
    "import cirq\n",
    "import matplotlib.pyplot as plt\n",
    "import numpy as np\n",
    "from math import gcd\n",
    "from fractions import Fraction\n",
    "import pandas as pd\n",
    "from numpy.random import randint\n",
    "from cirq.contrib.svg import SVGCircuit # Cette librairie sera utilisée pour afficher les circuits quantiques d'une manière plus lisible."
   ]
  },
  {
   "cell_type": "code",
   "execution_count": 2,
   "metadata": {},
   "outputs": [],
   "source": [
    "qubits_de_calcul = 8\n",
    "qubits_de_comparaison = 4\n",
    "nb_qubits = qubits_de_calcul+qubits_de_comparaison # le nombre de qubits pour représenter le binaire secret.\n",
    "qubits = cirq.LineQubit.range(nb_qubits) # Création des qubits.\n",
    "a = 7"
   ]
  },
  {
   "cell_type": "code",
   "execution_count": 3,
   "metadata": {},
   "outputs": [],
   "source": [
    "class AMod15(cirq.Gate):\n",
    "    def __init__(self,a,exposant):\n",
    "        super(AMod15, self)\n",
    "        self.a = a\n",
    "        self.exposant = exposant\n",
    "\n",
    "    def _num_qubits_(self):\n",
    "        return 4\n",
    "\n",
    "    def _decompose_(self, qubits):\n",
    "        \"\"\"Une porte controllé par a mod 15\"\"\"\n",
    "        q0,q1,q2,q3 = qubits\n",
    "        a=self.a\n",
    "        power=self.exposant\n",
    "        if a not in [2,4,7,8,11,13]:\n",
    "            raise ValueError(\"'a' doit être: 2,4,7,8,11 or 13\")\n",
    "        for _iteration in range(power):\n",
    "            if a in [2,13]:\n",
    "                yield cirq.SWAP(q2,q3)\n",
    "                yield cirq.SWAP(q1,q2)\n",
    "                yield cirq.SWAP(q0,q1)\n",
    "            if a in [7,8]:\n",
    "                yield cirq.SWAP(q0,q1)\n",
    "                yield cirq.SWAP(q1,q2)\n",
    "                yield cirq.SWAP(q2,q3)\n",
    "            if a in [4, 11]:\n",
    "                yield cirq.SWAP(q1,q3)\n",
    "                yield cirq.SWAP(q0,q2)\n",
    "            if a in [7,11,13]:\n",
    "                for q in range(4):\n",
    "                    yield cirq.X(qubits[q])\n",
    "\n",
    "    def _circuit_diagram_info_(self, args):\n",
    "        return [str(self.a)+\"^\"+str(self.exposant)+\" mod 15\"] * self.num_qubits()"
   ]
  },
  {
   "cell_type": "code",
   "execution_count": 51,
   "metadata": {},
   "outputs": [],
   "source": [
    "class QFTDagger(cirq.Gate):\n",
    "    def __init__(self,n):\n",
    "        super(QFTDagger, self)\n",
    "        self.n = n\n",
    "\n",
    "    def _num_qubits_(self):\n",
    "        return self.n\n",
    "\n",
    "    def _decompose_(self, qubits):\n",
    "        \"\"\"Une porte qui permet de faire l'inverse de la transformée de Fourier quantique\"\"\"\n",
    "        for qubit in range(self.n//2):\n",
    "            yield cirq.SWAP(qubits[qubit], qubits[self.n-qubit-1])\n",
    "        for j in range(self.n):\n",
    "            for m in range(j):\n",
    "                yield cirq.cphase(-np.pi/float(2**(j-m))).on(qubits[j], qubits[m])\n",
    "            yield cirq.H(qubits[j])\n",
    "\n",
    "    def _circuit_diagram_info_(self, args):\n",
    "        return [\"QFT†\"] * self.num_qubits()"
   ]
  },
  {
   "cell_type": "code",
   "execution_count": 52,
   "metadata": {},
   "outputs": [],
   "source": [
    "\"\"\"Applique la phase initial pour le circuit de Shor\"\"\"\n",
    "def phase_initial():\n",
    "    for i in range(8):\n",
    "        yield cirq.H(qubits[i])\n",
    "    yield cirq.X(qubits[nb_qubits-qubits_de_comparaison])"
   ]
  },
  {
   "cell_type": "code",
   "execution_count": 53,
   "metadata": {},
   "outputs": [],
   "source": [
    "def applique_porte_a_mod15_controlle():\n",
    "    for q in range(nb_qubits-4):\n",
    "        yield cirq.ControlledGate(sub_gate=AMod15(a=a,exposant=2**q), num_controls=1).on(qubits[q], qubits[qubits_de_calcul], qubits[qubits_de_calcul+1], qubits[qubits_de_calcul+2], qubits[qubits_de_calcul+3])"
   ]
  },
  {
   "cell_type": "code",
   "execution_count": 54,
   "metadata": {},
   "outputs": [
    {
     "name": "stdout",
     "output_type": "stream",
     "text": [
      "Circuit:\n"
     ]
    },
    {
     "data": {
      "image/svg+xml": [
       "<svg xmlns=\"http://www.w3.org/2000/svg\" width=\"1164.580625\" height=\"600.0\"><line x1=\"30.0\" x2=\"1134.580625\" y1=\"25.0\" y2=\"25.0\" stroke=\"#1967d2\" stroke-width=\"1\" /><line x1=\"30.0\" x2=\"1134.580625\" y1=\"75.0\" y2=\"75.0\" stroke=\"#1967d2\" stroke-width=\"1\" /><line x1=\"30.0\" x2=\"1134.580625\" y1=\"125.0\" y2=\"125.0\" stroke=\"#1967d2\" stroke-width=\"1\" /><line x1=\"30.0\" x2=\"1134.580625\" y1=\"175.0\" y2=\"175.0\" stroke=\"#1967d2\" stroke-width=\"1\" /><line x1=\"30.0\" x2=\"1134.580625\" y1=\"225.0\" y2=\"225.0\" stroke=\"#1967d2\" stroke-width=\"1\" /><line x1=\"30.0\" x2=\"1134.580625\" y1=\"275.0\" y2=\"275.0\" stroke=\"#1967d2\" stroke-width=\"1\" /><line x1=\"30.0\" x2=\"1134.580625\" y1=\"325.0\" y2=\"325.0\" stroke=\"#1967d2\" stroke-width=\"1\" /><line x1=\"30.0\" x2=\"1134.580625\" y1=\"375.0\" y2=\"375.0\" stroke=\"#1967d2\" stroke-width=\"1\" /><line x1=\"30.0\" x2=\"1134.580625\" y1=\"425.0\" y2=\"425.0\" stroke=\"#1967d2\" stroke-width=\"1\" /><line x1=\"30.0\" x2=\"1134.580625\" y1=\"475.0\" y2=\"475.0\" stroke=\"#1967d2\" stroke-width=\"1\" /><line x1=\"30.0\" x2=\"1134.580625\" y1=\"525.0\" y2=\"525.0\" stroke=\"#1967d2\" stroke-width=\"1\" /><line x1=\"30.0\" x2=\"1134.580625\" y1=\"575.0\" y2=\"575.0\" stroke=\"#1967d2\" stroke-width=\"1\" /><line x1=\"170.751953125\" x2=\"170.751953125\" y1=\"25.0\" y2=\"575.0\" stroke=\"black\" stroke-width=\"3\" /><line x1=\"272.255859375\" x2=\"272.255859375\" y1=\"75.0\" y2=\"575.0\" stroke=\"black\" stroke-width=\"3\" /><line x1=\"373.759765625\" x2=\"373.759765625\" y1=\"125.0\" y2=\"575.0\" stroke=\"black\" stroke-width=\"3\" /><line x1=\"475.263671875\" x2=\"475.263671875\" y1=\"175.0\" y2=\"575.0\" stroke=\"black\" stroke-width=\"3\" /><line x1=\"580.66064453125\" x2=\"580.66064453125\" y1=\"225.0\" y2=\"575.0\" stroke=\"black\" stroke-width=\"3\" /><line x1=\"689.95068359375\" x2=\"689.95068359375\" y1=\"275.0\" y2=\"575.0\" stroke=\"black\" stroke-width=\"3\" /><line x1=\"799.24072265625\" x2=\"799.24072265625\" y1=\"325.0\" y2=\"575.0\" stroke=\"black\" stroke-width=\"3\" /><line x1=\"912.423828125\" x2=\"912.423828125\" y1=\"375.0\" y2=\"575.0\" stroke=\"black\" stroke-width=\"3\" /><line x1=\"1003.26052734375\" x2=\"1003.26052734375\" y1=\"25.0\" y2=\"375.0\" stroke=\"black\" stroke-width=\"3\" /><line x1=\"1080.0698828125\" x2=\"1080.0698828125\" y1=\"25.0\" y2=\"375.0\" stroke=\"black\" stroke-width=\"3\" /><rect x=\"10.0\" y=\"5.0\" width=\"40\" height=\"40\" stroke=\"black\" fill=\"white\" stroke-width=\"0\" /><text x=\"30.0\" y=\"25.0\" dominant-baseline=\"middle\" text-anchor=\"middle\" font-size=\"14px\" font-family=\"Arial\">0: </text><rect x=\"10.0\" y=\"55.0\" width=\"40\" height=\"40\" stroke=\"black\" fill=\"white\" stroke-width=\"0\" /><text x=\"30.0\" y=\"75.0\" dominant-baseline=\"middle\" text-anchor=\"middle\" font-size=\"14px\" font-family=\"Arial\">1: </text><rect x=\"10.0\" y=\"105.0\" width=\"40\" height=\"40\" stroke=\"black\" fill=\"white\" stroke-width=\"0\" /><text x=\"30.0\" y=\"125.0\" dominant-baseline=\"middle\" text-anchor=\"middle\" font-size=\"14px\" font-family=\"Arial\">2: </text><rect x=\"10.0\" y=\"155.0\" width=\"40\" height=\"40\" stroke=\"black\" fill=\"white\" stroke-width=\"0\" /><text x=\"30.0\" y=\"175.0\" dominant-baseline=\"middle\" text-anchor=\"middle\" font-size=\"14px\" font-family=\"Arial\">3: </text><rect x=\"10.0\" y=\"205.0\" width=\"40\" height=\"40\" stroke=\"black\" fill=\"white\" stroke-width=\"0\" /><text x=\"30.0\" y=\"225.0\" dominant-baseline=\"middle\" text-anchor=\"middle\" font-size=\"14px\" font-family=\"Arial\">4: </text><rect x=\"10.0\" y=\"255.0\" width=\"40\" height=\"40\" stroke=\"black\" fill=\"white\" stroke-width=\"0\" /><text x=\"30.0\" y=\"275.0\" dominant-baseline=\"middle\" text-anchor=\"middle\" font-size=\"14px\" font-family=\"Arial\">5: </text><rect x=\"10.0\" y=\"305.0\" width=\"40\" height=\"40\" stroke=\"black\" fill=\"white\" stroke-width=\"0\" /><text x=\"30.0\" y=\"325.0\" dominant-baseline=\"middle\" text-anchor=\"middle\" font-size=\"14px\" font-family=\"Arial\">6: </text><rect x=\"10.0\" y=\"355.0\" width=\"40\" height=\"40\" stroke=\"black\" fill=\"white\" stroke-width=\"0\" /><text x=\"30.0\" y=\"375.0\" dominant-baseline=\"middle\" text-anchor=\"middle\" font-size=\"14px\" font-family=\"Arial\">7: </text><rect x=\"10.0\" y=\"405.0\" width=\"40\" height=\"40\" stroke=\"black\" fill=\"white\" stroke-width=\"0\" /><text x=\"30.0\" y=\"425.0\" dominant-baseline=\"middle\" text-anchor=\"middle\" font-size=\"14px\" font-family=\"Arial\">8: </text><rect x=\"10.0\" y=\"455.0\" width=\"40\" height=\"40\" stroke=\"black\" fill=\"white\" stroke-width=\"0\" /><text x=\"30.0\" y=\"475.0\" dominant-baseline=\"middle\" text-anchor=\"middle\" font-size=\"14px\" font-family=\"Arial\">9: </text><rect x=\"10.0\" y=\"505.0\" width=\"40\" height=\"40\" stroke=\"black\" fill=\"white\" stroke-width=\"0\" /><text x=\"30.0\" y=\"525.0\" dominant-baseline=\"middle\" text-anchor=\"middle\" font-size=\"14px\" font-family=\"Arial\">10: </text><rect x=\"10.0\" y=\"555.0\" width=\"40\" height=\"40\" stroke=\"black\" fill=\"white\" stroke-width=\"0\" /><text x=\"30.0\" y=\"575.0\" dominant-baseline=\"middle\" text-anchor=\"middle\" font-size=\"14px\" font-family=\"Arial\">11: </text><rect x=\"70.0\" y=\"5.0\" width=\"40\" height=\"40\" stroke=\"black\" fill=\"white\" stroke-width=\"1\" /><text x=\"90.0\" y=\"25.0\" dominant-baseline=\"middle\" text-anchor=\"middle\" font-size=\"18px\" font-family=\"Arial\">H</text><rect x=\"70.0\" y=\"55.0\" width=\"40\" height=\"40\" stroke=\"black\" fill=\"white\" stroke-width=\"1\" /><text x=\"90.0\" y=\"75.0\" dominant-baseline=\"middle\" text-anchor=\"middle\" font-size=\"18px\" font-family=\"Arial\">H</text><rect x=\"70.0\" y=\"105.0\" width=\"40\" height=\"40\" stroke=\"black\" fill=\"white\" stroke-width=\"1\" /><text x=\"90.0\" y=\"125.0\" dominant-baseline=\"middle\" text-anchor=\"middle\" font-size=\"18px\" font-family=\"Arial\">H</text><rect x=\"70.0\" y=\"155.0\" width=\"40\" height=\"40\" stroke=\"black\" fill=\"white\" stroke-width=\"1\" /><text x=\"90.0\" y=\"175.0\" dominant-baseline=\"middle\" text-anchor=\"middle\" font-size=\"18px\" font-family=\"Arial\">H</text><rect x=\"70.0\" y=\"205.0\" width=\"40\" height=\"40\" stroke=\"black\" fill=\"white\" stroke-width=\"1\" /><text x=\"90.0\" y=\"225.0\" dominant-baseline=\"middle\" text-anchor=\"middle\" font-size=\"18px\" font-family=\"Arial\">H</text><rect x=\"70.0\" y=\"255.0\" width=\"40\" height=\"40\" stroke=\"black\" fill=\"white\" stroke-width=\"1\" /><text x=\"90.0\" y=\"275.0\" dominant-baseline=\"middle\" text-anchor=\"middle\" font-size=\"18px\" font-family=\"Arial\">H</text><rect x=\"70.0\" y=\"305.0\" width=\"40\" height=\"40\" stroke=\"black\" fill=\"white\" stroke-width=\"1\" /><text x=\"90.0\" y=\"325.0\" dominant-baseline=\"middle\" text-anchor=\"middle\" font-size=\"18px\" font-family=\"Arial\">H</text><rect x=\"70.0\" y=\"355.0\" width=\"40\" height=\"40\" stroke=\"black\" fill=\"white\" stroke-width=\"1\" /><text x=\"90.0\" y=\"375.0\" dominant-baseline=\"middle\" text-anchor=\"middle\" font-size=\"18px\" font-family=\"Arial\">H</text><rect x=\"70.0\" y=\"405.0\" width=\"40\" height=\"40\" stroke=\"black\" fill=\"white\" stroke-width=\"1\" /><text x=\"90.0\" y=\"425.0\" dominant-baseline=\"middle\" text-anchor=\"middle\" font-size=\"18px\" font-family=\"Arial\">X</text><circle cx=\"170.751953125\" cy=\"25.0\" r=\"10.0\" /><rect x=\"130.0\" y=\"405.0\" width=\"81.50390625\" height=\"40\" stroke=\"black\" fill=\"white\" stroke-width=\"1\" /><text x=\"170.751953125\" y=\"425.0\" dominant-baseline=\"middle\" text-anchor=\"middle\" font-size=\"14px\" font-family=\"Arial\">7^1 mod 15</text><rect x=\"130.0\" y=\"455.0\" width=\"81.50390625\" height=\"40\" stroke=\"black\" fill=\"white\" stroke-width=\"1\" /><text x=\"170.751953125\" y=\"475.0\" dominant-baseline=\"middle\" text-anchor=\"middle\" font-size=\"14px\" font-family=\"Arial\">7^1 mod 15</text><rect x=\"130.0\" y=\"505.0\" width=\"81.50390625\" height=\"40\" stroke=\"black\" fill=\"white\" stroke-width=\"1\" /><text x=\"170.751953125\" y=\"525.0\" dominant-baseline=\"middle\" text-anchor=\"middle\" font-size=\"14px\" font-family=\"Arial\">7^1 mod 15</text><rect x=\"130.0\" y=\"555.0\" width=\"81.50390625\" height=\"40\" stroke=\"black\" fill=\"white\" stroke-width=\"1\" /><text x=\"170.751953125\" y=\"575.0\" dominant-baseline=\"middle\" text-anchor=\"middle\" font-size=\"14px\" font-family=\"Arial\">7^1 mod 15</text><circle cx=\"272.255859375\" cy=\"75.0\" r=\"10.0\" /><rect x=\"231.50390625\" y=\"405.0\" width=\"81.50390625\" height=\"40\" stroke=\"black\" fill=\"white\" stroke-width=\"1\" /><text x=\"272.255859375\" y=\"425.0\" dominant-baseline=\"middle\" text-anchor=\"middle\" font-size=\"14px\" font-family=\"Arial\">7^2 mod 15</text><rect x=\"231.50390625\" y=\"455.0\" width=\"81.50390625\" height=\"40\" stroke=\"black\" fill=\"white\" stroke-width=\"1\" /><text x=\"272.255859375\" y=\"475.0\" dominant-baseline=\"middle\" text-anchor=\"middle\" font-size=\"14px\" font-family=\"Arial\">7^2 mod 15</text><rect x=\"231.50390625\" y=\"505.0\" width=\"81.50390625\" height=\"40\" stroke=\"black\" fill=\"white\" stroke-width=\"1\" /><text x=\"272.255859375\" y=\"525.0\" dominant-baseline=\"middle\" text-anchor=\"middle\" font-size=\"14px\" font-family=\"Arial\">7^2 mod 15</text><rect x=\"231.50390625\" y=\"555.0\" width=\"81.50390625\" height=\"40\" stroke=\"black\" fill=\"white\" stroke-width=\"1\" /><text x=\"272.255859375\" y=\"575.0\" dominant-baseline=\"middle\" text-anchor=\"middle\" font-size=\"14px\" font-family=\"Arial\">7^2 mod 15</text><circle cx=\"373.759765625\" cy=\"125.0\" r=\"10.0\" /><rect x=\"333.0078125\" y=\"405.0\" width=\"81.50390625\" height=\"40\" stroke=\"black\" fill=\"white\" stroke-width=\"1\" /><text x=\"373.759765625\" y=\"425.0\" dominant-baseline=\"middle\" text-anchor=\"middle\" font-size=\"14px\" font-family=\"Arial\">7^4 mod 15</text><rect x=\"333.0078125\" y=\"455.0\" width=\"81.50390625\" height=\"40\" stroke=\"black\" fill=\"white\" stroke-width=\"1\" /><text x=\"373.759765625\" y=\"475.0\" dominant-baseline=\"middle\" text-anchor=\"middle\" font-size=\"14px\" font-family=\"Arial\">7^4 mod 15</text><rect x=\"333.0078125\" y=\"505.0\" width=\"81.50390625\" height=\"40\" stroke=\"black\" fill=\"white\" stroke-width=\"1\" /><text x=\"373.759765625\" y=\"525.0\" dominant-baseline=\"middle\" text-anchor=\"middle\" font-size=\"14px\" font-family=\"Arial\">7^4 mod 15</text><rect x=\"333.0078125\" y=\"555.0\" width=\"81.50390625\" height=\"40\" stroke=\"black\" fill=\"white\" stroke-width=\"1\" /><text x=\"373.759765625\" y=\"575.0\" dominant-baseline=\"middle\" text-anchor=\"middle\" font-size=\"14px\" font-family=\"Arial\">7^4 mod 15</text><circle cx=\"475.263671875\" cy=\"175.0\" r=\"10.0\" /><rect x=\"434.51171875\" y=\"405.0\" width=\"81.50390625\" height=\"40\" stroke=\"black\" fill=\"white\" stroke-width=\"1\" /><text x=\"475.263671875\" y=\"425.0\" dominant-baseline=\"middle\" text-anchor=\"middle\" font-size=\"14px\" font-family=\"Arial\">7^8 mod 15</text><rect x=\"434.51171875\" y=\"455.0\" width=\"81.50390625\" height=\"40\" stroke=\"black\" fill=\"white\" stroke-width=\"1\" /><text x=\"475.263671875\" y=\"475.0\" dominant-baseline=\"middle\" text-anchor=\"middle\" font-size=\"14px\" font-family=\"Arial\">7^8 mod 15</text><rect x=\"434.51171875\" y=\"505.0\" width=\"81.50390625\" height=\"40\" stroke=\"black\" fill=\"white\" stroke-width=\"1\" /><text x=\"475.263671875\" y=\"525.0\" dominant-baseline=\"middle\" text-anchor=\"middle\" font-size=\"14px\" font-family=\"Arial\">7^8 mod 15</text><rect x=\"434.51171875\" y=\"555.0\" width=\"81.50390625\" height=\"40\" stroke=\"black\" fill=\"white\" stroke-width=\"1\" /><text x=\"475.263671875\" y=\"575.0\" dominant-baseline=\"middle\" text-anchor=\"middle\" font-size=\"14px\" font-family=\"Arial\">7^8 mod 15</text><circle cx=\"580.66064453125\" cy=\"225.0\" r=\"10.0\" /><rect x=\"536.015625\" y=\"405.0\" width=\"89.2900390625\" height=\"40\" stroke=\"black\" fill=\"white\" stroke-width=\"1\" /><text x=\"580.66064453125\" y=\"425.0\" dominant-baseline=\"middle\" text-anchor=\"middle\" font-size=\"14px\" font-family=\"Arial\">7^16 mod 15</text><rect x=\"536.015625\" y=\"455.0\" width=\"89.2900390625\" height=\"40\" stroke=\"black\" fill=\"white\" stroke-width=\"1\" /><text x=\"580.66064453125\" y=\"475.0\" dominant-baseline=\"middle\" text-anchor=\"middle\" font-size=\"14px\" font-family=\"Arial\">7^16 mod 15</text><rect x=\"536.015625\" y=\"505.0\" width=\"89.2900390625\" height=\"40\" stroke=\"black\" fill=\"white\" stroke-width=\"1\" /><text x=\"580.66064453125\" y=\"525.0\" dominant-baseline=\"middle\" text-anchor=\"middle\" font-size=\"14px\" font-family=\"Arial\">7^16 mod 15</text><rect x=\"536.015625\" y=\"555.0\" width=\"89.2900390625\" height=\"40\" stroke=\"black\" fill=\"white\" stroke-width=\"1\" /><text x=\"580.66064453125\" y=\"575.0\" dominant-baseline=\"middle\" text-anchor=\"middle\" font-size=\"14px\" font-family=\"Arial\">7^16 mod 15</text><circle cx=\"689.95068359375\" cy=\"275.0\" r=\"10.0\" /><rect x=\"645.3056640625\" y=\"405.0\" width=\"89.2900390625\" height=\"40\" stroke=\"black\" fill=\"white\" stroke-width=\"1\" /><text x=\"689.95068359375\" y=\"425.0\" dominant-baseline=\"middle\" text-anchor=\"middle\" font-size=\"14px\" font-family=\"Arial\">7^32 mod 15</text><rect x=\"645.3056640625\" y=\"455.0\" width=\"89.2900390625\" height=\"40\" stroke=\"black\" fill=\"white\" stroke-width=\"1\" /><text x=\"689.95068359375\" y=\"475.0\" dominant-baseline=\"middle\" text-anchor=\"middle\" font-size=\"14px\" font-family=\"Arial\">7^32 mod 15</text><rect x=\"645.3056640625\" y=\"505.0\" width=\"89.2900390625\" height=\"40\" stroke=\"black\" fill=\"white\" stroke-width=\"1\" /><text x=\"689.95068359375\" y=\"525.0\" dominant-baseline=\"middle\" text-anchor=\"middle\" font-size=\"14px\" font-family=\"Arial\">7^32 mod 15</text><rect x=\"645.3056640625\" y=\"555.0\" width=\"89.2900390625\" height=\"40\" stroke=\"black\" fill=\"white\" stroke-width=\"1\" /><text x=\"689.95068359375\" y=\"575.0\" dominant-baseline=\"middle\" text-anchor=\"middle\" font-size=\"14px\" font-family=\"Arial\">7^32 mod 15</text><circle cx=\"799.24072265625\" cy=\"325.0\" r=\"10.0\" /><rect x=\"754.595703125\" y=\"405.0\" width=\"89.2900390625\" height=\"40\" stroke=\"black\" fill=\"white\" stroke-width=\"1\" /><text x=\"799.24072265625\" y=\"425.0\" dominant-baseline=\"middle\" text-anchor=\"middle\" font-size=\"14px\" font-family=\"Arial\">7^64 mod 15</text><rect x=\"754.595703125\" y=\"455.0\" width=\"89.2900390625\" height=\"40\" stroke=\"black\" fill=\"white\" stroke-width=\"1\" /><text x=\"799.24072265625\" y=\"475.0\" dominant-baseline=\"middle\" text-anchor=\"middle\" font-size=\"14px\" font-family=\"Arial\">7^64 mod 15</text><rect x=\"754.595703125\" y=\"505.0\" width=\"89.2900390625\" height=\"40\" stroke=\"black\" fill=\"white\" stroke-width=\"1\" /><text x=\"799.24072265625\" y=\"525.0\" dominant-baseline=\"middle\" text-anchor=\"middle\" font-size=\"14px\" font-family=\"Arial\">7^64 mod 15</text><rect x=\"754.595703125\" y=\"555.0\" width=\"89.2900390625\" height=\"40\" stroke=\"black\" fill=\"white\" stroke-width=\"1\" /><text x=\"799.24072265625\" y=\"575.0\" dominant-baseline=\"middle\" text-anchor=\"middle\" font-size=\"14px\" font-family=\"Arial\">7^64 mod 15</text><circle cx=\"912.423828125\" cy=\"375.0\" r=\"10.0\" /><rect x=\"863.8857421875\" y=\"405.0\" width=\"97.07617187500001\" height=\"40\" stroke=\"black\" fill=\"white\" stroke-width=\"1\" /><text x=\"912.423828125\" y=\"425.0\" dominant-baseline=\"middle\" text-anchor=\"middle\" font-size=\"14px\" font-family=\"Arial\">7^128 mod 15</text><rect x=\"863.8857421875\" y=\"455.0\" width=\"97.07617187500001\" height=\"40\" stroke=\"black\" fill=\"white\" stroke-width=\"1\" /><text x=\"912.423828125\" y=\"475.0\" dominant-baseline=\"middle\" text-anchor=\"middle\" font-size=\"14px\" font-family=\"Arial\">7^128 mod 15</text><rect x=\"863.8857421875\" y=\"505.0\" width=\"97.07617187500001\" height=\"40\" stroke=\"black\" fill=\"white\" stroke-width=\"1\" /><text x=\"912.423828125\" y=\"525.0\" dominant-baseline=\"middle\" text-anchor=\"middle\" font-size=\"14px\" font-family=\"Arial\">7^128 mod 15</text><rect x=\"863.8857421875\" y=\"555.0\" width=\"97.07617187500001\" height=\"40\" stroke=\"black\" fill=\"white\" stroke-width=\"1\" /><text x=\"912.423828125\" y=\"575.0\" dominant-baseline=\"middle\" text-anchor=\"middle\" font-size=\"14px\" font-family=\"Arial\">7^128 mod 15</text><rect x=\"980.9619140625\" y=\"5.0\" width=\"44.5972265625\" height=\"40\" stroke=\"black\" fill=\"white\" stroke-width=\"1\" /><text x=\"1003.26052734375\" y=\"25.0\" dominant-baseline=\"middle\" text-anchor=\"middle\" font-size=\"14px\" font-family=\"Arial\">QFT†</text><rect x=\"980.9619140625\" y=\"55.0\" width=\"44.5972265625\" height=\"40\" stroke=\"black\" fill=\"white\" stroke-width=\"1\" /><text x=\"1003.26052734375\" y=\"75.0\" dominant-baseline=\"middle\" text-anchor=\"middle\" font-size=\"14px\" font-family=\"Arial\">QFT†</text><rect x=\"980.9619140625\" y=\"105.0\" width=\"44.5972265625\" height=\"40\" stroke=\"black\" fill=\"white\" stroke-width=\"1\" /><text x=\"1003.26052734375\" y=\"125.0\" dominant-baseline=\"middle\" text-anchor=\"middle\" font-size=\"14px\" font-family=\"Arial\">QFT†</text><rect x=\"980.9619140625\" y=\"155.0\" width=\"44.5972265625\" height=\"40\" stroke=\"black\" fill=\"white\" stroke-width=\"1\" /><text x=\"1003.26052734375\" y=\"175.0\" dominant-baseline=\"middle\" text-anchor=\"middle\" font-size=\"14px\" font-family=\"Arial\">QFT†</text><rect x=\"980.9619140625\" y=\"205.0\" width=\"44.5972265625\" height=\"40\" stroke=\"black\" fill=\"white\" stroke-width=\"1\" /><text x=\"1003.26052734375\" y=\"225.0\" dominant-baseline=\"middle\" text-anchor=\"middle\" font-size=\"14px\" font-family=\"Arial\">QFT†</text><rect x=\"980.9619140625\" y=\"255.0\" width=\"44.5972265625\" height=\"40\" stroke=\"black\" fill=\"white\" stroke-width=\"1\" /><text x=\"1003.26052734375\" y=\"275.0\" dominant-baseline=\"middle\" text-anchor=\"middle\" font-size=\"14px\" font-family=\"Arial\">QFT†</text><rect x=\"980.9619140625\" y=\"305.0\" width=\"44.5972265625\" height=\"40\" stroke=\"black\" fill=\"white\" stroke-width=\"1\" /><text x=\"1003.26052734375\" y=\"325.0\" dominant-baseline=\"middle\" text-anchor=\"middle\" font-size=\"14px\" font-family=\"Arial\">QFT†</text><rect x=\"980.9619140625\" y=\"355.0\" width=\"44.5972265625\" height=\"40\" stroke=\"black\" fill=\"white\" stroke-width=\"1\" /><text x=\"1003.26052734375\" y=\"375.0\" dominant-baseline=\"middle\" text-anchor=\"middle\" font-size=\"14px\" font-family=\"Arial\">QFT†</text><rect x=\"1045.559140625\" y=\"5.0\" width=\"69.021484375\" height=\"40\" stroke=\"black\" fill=\"white\" stroke-width=\"1\" /><text x=\"1080.0698828125\" y=\"25.0\" dominant-baseline=\"middle\" text-anchor=\"middle\" font-size=\"14px\" font-family=\"Arial\">M('result')</text><rect x=\"1045.559140625\" y=\"55.0\" width=\"69.021484375\" height=\"40\" stroke=\"black\" fill=\"white\" stroke-width=\"1\" /><text x=\"1080.0698828125\" y=\"75.0\" dominant-baseline=\"middle\" text-anchor=\"middle\" font-size=\"18px\" font-family=\"Arial\">M</text><rect x=\"1045.559140625\" y=\"105.0\" width=\"69.021484375\" height=\"40\" stroke=\"black\" fill=\"white\" stroke-width=\"1\" /><text x=\"1080.0698828125\" y=\"125.0\" dominant-baseline=\"middle\" text-anchor=\"middle\" font-size=\"18px\" font-family=\"Arial\">M</text><rect x=\"1045.559140625\" y=\"155.0\" width=\"69.021484375\" height=\"40\" stroke=\"black\" fill=\"white\" stroke-width=\"1\" /><text x=\"1080.0698828125\" y=\"175.0\" dominant-baseline=\"middle\" text-anchor=\"middle\" font-size=\"18px\" font-family=\"Arial\">M</text><rect x=\"1045.559140625\" y=\"205.0\" width=\"69.021484375\" height=\"40\" stroke=\"black\" fill=\"white\" stroke-width=\"1\" /><text x=\"1080.0698828125\" y=\"225.0\" dominant-baseline=\"middle\" text-anchor=\"middle\" font-size=\"18px\" font-family=\"Arial\">M</text><rect x=\"1045.559140625\" y=\"255.0\" width=\"69.021484375\" height=\"40\" stroke=\"black\" fill=\"white\" stroke-width=\"1\" /><text x=\"1080.0698828125\" y=\"275.0\" dominant-baseline=\"middle\" text-anchor=\"middle\" font-size=\"18px\" font-family=\"Arial\">M</text><rect x=\"1045.559140625\" y=\"305.0\" width=\"69.021484375\" height=\"40\" stroke=\"black\" fill=\"white\" stroke-width=\"1\" /><text x=\"1080.0698828125\" y=\"325.0\" dominant-baseline=\"middle\" text-anchor=\"middle\" font-size=\"18px\" font-family=\"Arial\">M</text><rect x=\"1045.559140625\" y=\"355.0\" width=\"69.021484375\" height=\"40\" stroke=\"black\" fill=\"white\" stroke-width=\"1\" /><text x=\"1080.0698828125\" y=\"375.0\" dominant-baseline=\"middle\" text-anchor=\"middle\" font-size=\"18px\" font-family=\"Arial\">M</text></svg>"
      ],
      "text/plain": [
       "<cirq.contrib.svg.svg.SVGCircuit at 0x178888410>"
      ]
     },
     "execution_count": 54,
     "metadata": {},
     "output_type": "execute_result"
    }
   ],
   "source": [
    "circuit = cirq.Circuit(\n",
    "    phase_initial(),\n",
    "    applique_porte_a_mod15_controlle(),\n",
    "    QFTDagger(qubits_de_calcul)(*qubits[0:qubits_de_calcul]),\n",
    "    cirq.measure(*qubits[0:8], key='result')\n",
    ")\n",
    "\n",
    "print(\"Circuit:\")\n",
    "SVGCircuit(circuit)"
   ]
  },
  {
   "cell_type": "code",
   "execution_count": 55,
   "metadata": {},
   "outputs": [
    {
     "name": "stdout",
     "output_type": "stream",
     "text": [
      "Circuit simulé:\n",
      "measurements: result=00000011\n",
      "\n",
      "qubits: (cirq.LineQubit(0),)\n",
      "output vector: -1|0⟩\n",
      "\n",
      "qubits: (cirq.LineQubit(1),)\n",
      "output vector: |0⟩\n",
      "\n",
      "qubits: (cirq.LineQubit(2),)\n",
      "output vector: |0⟩\n",
      "\n",
      "qubits: (cirq.LineQubit(3),)\n",
      "output vector: |0⟩\n",
      "\n",
      "qubits: (cirq.LineQubit(4),)\n",
      "output vector: |0⟩\n",
      "\n",
      "qubits: (cirq.LineQubit(5),)\n",
      "output vector: |0⟩\n",
      "\n",
      "qubits: (cirq.LineQubit(6),)\n",
      "output vector: |1⟩\n",
      "\n",
      "qubits: (cirq.LineQubit(7),)\n",
      "output vector: |1⟩\n",
      "\n",
      "qubits: (cirq.LineQubit(8), cirq.LineQubit(9), cirq.LineQubit(10), cirq.LineQubit(11))\n",
      "output vector: 0.5|0010⟩ - 0.5|1000⟩ + 0.5j|1011⟩ - 0.5j|1110⟩\n",
      "\n",
      "phase:\n",
      "output vector: |⟩\n",
      "Counter({2: 256, 0: 255, 1: 251, 3: 238})\n"
     ]
    },
    {
     "data": {
      "image/png": "[encoded data removed]",
      "text/plain": [
       "<Figure size 640x480 with 1 Axes>"
      ]
     },
     "metadata": {},
     "output_type": "display_data"
    }
   ],
   "source": [
    "# On initialise le simulateur.\n",
    "simulateur = cirq.Simulator()\n",
    "\n",
    "print('Circuit simulé:')\n",
    "resultats = simulateur.simulate(circuit)\n",
    "print(resultats)\n",
    "\n",
    "# On fait les essayes du circuit.\n",
    "essaies = simulateur.run(circuit, repetitions=1000)\n",
    "\n",
    "# On vient chercher seulement les qubits qui ont un résultats.\n",
    "counts = essaies.histogram(key='result')\n",
    "print(counts)\n",
    "\n",
    "\n",
    "# On affiche les résultats dans un graphique.\n",
    "cirq.plot_state_histogram(counts, plt.subplot())\n",
    "plt.show()"
   ]
  },
  {
   "cell_type": "code",
   "execution_count": 56,
   "metadata": {},
   "outputs": [
    {
     "name": "stdout",
     "output_type": "stream",
     "text": [
      "   Phase Fraction  Supposition pour r\n",
      "0    192      3/4                   4\n",
      "1      0      0/1                   1\n",
      "2     64      1/4                   4\n",
      "3    128      1/2                   2\n"
     ]
    }
   ],
   "source": [
    "# Cette partie permet d'inverser l'ordre des qubits pour avoir le résultat en binaire comme dans qiskit\n",
    "# Après elle crée un tableau.\n",
    "colonne = []\n",
    "for reponse in counts.keys():\n",
    "    phase = int(format(reponse, \"0\"+str(qubits_de_calcul)+\"b\")[::-1],2)\n",
    "    fraction = Fraction(phase/2**(nb_qubits-4)).limit_denominator(15)\n",
    "    colonne.append([phase,\n",
    "                f\"{fraction.numerator}/{fraction.denominator}\",\n",
    "                fraction.denominator])\n",
    "entete=[\"Phase\", \"Fraction\", \"Supposition pour r\"]\n",
    "df = pd.DataFrame(colonne, columns=entete)\n",
    "print(df)"
   ]
  },
  {
   "cell_type": "code",
   "execution_count": 57,
   "metadata": {},
   "outputs": [],
   "source": [
    "def a2jmodN(a, j, N):\n",
    "    \"\"\"Effectue le calcul de a^{2^j} (mod N) par des carrés répétés\"\"\"\n",
    "    for _ in range(j):\n",
    "        a = np.mod(a**2, N)\n",
    "    return a"
   ]
  },
  {
   "cell_type": "code",
   "execution_count": 58,
   "metadata": {},
   "outputs": [
    {
     "name": "stdout",
     "output_type": "stream",
     "text": [
      "47\n"
     ]
    }
   ],
   "source": [
    "print(a2jmodN(7, 2049, 53))"
   ]
  },
  {
   "cell_type": "code",
   "execution_count": 59,
   "metadata": {},
   "outputs": [
    {
     "name": "stdout",
     "output_type": "stream",
     "text": [
      "7\n"
     ]
    }
   ],
   "source": [
    "N = 15\n",
    "np.random.seed(1) # Permet d'avoir toujours le même nombre aléatoire.\n",
    "a = randint(2, 15)\n",
    "print(a)"
   ]
  },
  {
   "cell_type": "code",
   "execution_count": 60,
   "metadata": {},
   "outputs": [
    {
     "data": {
      "text/plain": [
       "1"
      ]
     },
     "execution_count": 60,
     "metadata": {},
     "output_type": "execute_result"
    }
   ],
   "source": [
    "gcd(a, N)"
   ]
  },
  {
   "cell_type": "code",
   "execution_count": 61,
   "metadata": {},
   "outputs": [],
   "source": [
    "def qpe_amod15(a):\n",
    "    \"\"\"Effectue l'estimation de phase quantique sur l'opération a*r mod 15.\n",
    "    Args:\n",
    "        a (int): C'est le 'a' dans a*r mod 15\n",
    "    Returns:\n",
    "        float: L'estimation de la phase\n",
    "    \"\"\"\n",
    "    N_COUNT = 8\n",
    "    qubits = cirq.LineQubit.range(N_COUNT+4)\n",
    "\n",
    "    def algo():\n",
    "        for q in range(N_COUNT):\n",
    "            yield cirq.H(qubits[q])\n",
    "        yield cirq.X(qubits[N_COUNT+3])\n",
    "        for q in range(N_COUNT):\n",
    "            yield cirq.ControlledGate(sub_gate=AMod15(a=a,exposant=2**q), num_controls=1).on(qubits[q], qubits[N_COUNT], qubits[N_COUNT+1], qubits[N_COUNT+2], qubits[N_COUNT+3])\n",
    "        yield QFTDagger(N_COUNT)(*qubits[0:N_COUNT])\n",
    "        yield cirq.measure(*qubits[0:N_COUNT], key='result')\n",
    "    \n",
    "    circuit = cirq.Circuit(algo())\n",
    "\n",
    "    # On fait les essayes du circuit.\n",
    "    essaies = simulateur.run(circuit, repetitions=1000)\n",
    "\n",
    "    # On vient chercher seulement les qubits qui ont un résultats.\n",
    "    counts = essaies.histogram(key='result')\n",
    "    print(counts)\n",
    "\n",
    "    reading = str(int(format(list(counts.keys())[0], \"0\"+str(qubits_de_calcul)+\"b\")[::-1],2))\n",
    "    print(\"Register Reading: \" + reading)\n",
    "    phase = int(reading)/(2**N_COUNT)\n",
    "    print(f\"Corresponding Phase: {phase}\")\n",
    "    return phase"
   ]
  },
  {
   "cell_type": "code",
   "execution_count": 62,
   "metadata": {},
   "outputs": [
    {
     "name": "stdout",
     "output_type": "stream",
     "text": [
      "Counter({0: 272, 2: 246, 3: 241, 1: 241})\n",
      "Register Reading: 192\n",
      "Corresponding Phase: 0.75\n"
     ]
    },
    {
     "data": {
      "text/plain": [
       "Fraction(3, 4)"
      ]
     },
     "execution_count": 62,
     "metadata": {},
     "output_type": "execute_result"
    }
   ],
   "source": [
    "phase = qpe_amod15(a) # Phase = s/r\n",
    "Fraction(phase).limit_denominator(15)"
   ]
  },
  {
   "cell_type": "code",
   "execution_count": 63,
   "metadata": {},
   "outputs": [
    {
     "name": "stdout",
     "output_type": "stream",
     "text": [
      "4\n"
     ]
    }
   ],
   "source": [
    "frac = Fraction(phase).limit_denominator(15)\n",
    "s, r = frac.numerator, frac.denominator\n",
    "print(r)"
   ]
  },
  {
   "cell_type": "code",
   "execution_count": 64,
   "metadata": {},
   "outputs": [
    {
     "name": "stdout",
     "output_type": "stream",
     "text": [
      "[3, 5]\n"
     ]
    }
   ],
   "source": [
    "suppositions = [gcd(a**(r//2)-1, N), gcd(a**(r//2)+1, N)]\n",
    "print(suppositions)"
   ]
  },
  {
   "cell_type": "code",
   "execution_count": 67,
   "metadata": {},
   "outputs": [
    {
     "name": "stdout",
     "output_type": "stream",
     "text": [
      "\n",
      "ESSAIE 1:\n",
      "Counter({0: 256, 2: 254, 1: 251, 3: 239})\n",
      "Register Reading: 0\n",
      "Corresponding Phase: 0.0\n",
      "Résultat: r = 1\n",
      "\n",
      "ESSAIE 2:\n",
      "Counter({1: 258, 3: 256, 0: 246, 2: 240})\n",
      "Register Reading: 64\n",
      "Corresponding Phase: 0.25\n",
      "Résultat: r = 4\n",
      "Guessed Factors: 3 and 5\n",
      "*** Facteur non-triaval trouver: 3 ***\n",
      "*** Facteur non-triaval trouver: 5 ***\n"
     ]
    }
   ],
   "source": [
    "a = 7\n",
    "FACTOR_TROUVE = False\n",
    "ESSAIE = 0\n",
    "while not FACTOR_TROUVE:\n",
    "    ESSAIE += 1\n",
    "    print(f\"\\nESSAIE {ESSAIE}:\")\n",
    "    phase = qpe_amod15(a) # Phase = s/r\n",
    "    fraction = Fraction(phase).limit_denominator(N)\n",
    "    r = fraction.denominator\n",
    "    print(f\"Résultat: r = {r}\")\n",
    "    if phase != 0:\n",
    "        # Suppositions pour les facteurs sont gcd(x^{r/2} ±1 , 15)\n",
    "        suppositions = [gcd(a**(r//2)-1, N), gcd(a**(r//2)+1, N)]\n",
    "        print(f\"Guessed Factors: {suppositions[0]} and {suppositions[1]}\")\n",
    "        for supposition in suppositions:\n",
    "            if supposition not in [1,N] and (N % supposition) == 0:\n",
    "                # Guess is a factor!\n",
    "                print(f\"*** Facteur non-triaval trouver: {supposition} ***\")\n",
    "                FACTOR_TROUVE = True"
   ]
  },
  {
   "cell_type": "code",
   "execution_count": null,
   "metadata": {},
   "outputs": [],
   "source": []
  }
 ],
 "metadata": {
  "kernelspec": {
   "display_name": "Python 3 (ipykernel)",
   "language": "python",
   "name": "python3"
  },
  "language_info": {
   "codemirror_mode": {
    "name": "ipython",
    "version": 3
   },
   "file_extension": ".py",
   "mimetype": "text/x-python",
   "name": "python",
   "nbconvert_exporter": "python",
   "pygments_lexer": "ipython3",
   "version": "3.10.9"
  }
 },
 "nbformat": 4,
 "nbformat_minor": 4
}
