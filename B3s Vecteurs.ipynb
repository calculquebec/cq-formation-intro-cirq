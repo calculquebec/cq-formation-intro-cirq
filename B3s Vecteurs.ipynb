{
 "cells": [
  {
   "cell_type": "markdown",
   "metadata": {},
   "source": [
    "<table width=\"100%\"><tr><td style=\"color:#bbbbbb;background-color:#ffffff;font-size:11px;font-style:italic;text-align:right;\">Cette cellule contient des macros. Exécutez la cellule si les formules ont des erreurs.</td></tr></table>\n",
    "$ \\newcommand{\\bra}[1]{\\langle #1|} $\n",
    "$ \\newcommand{\\ket}[1]{|#1\\rangle} $\n",
    "$ \\newcommand{\\braket}[2]{\\langle #1|#2\\rangle} $\n",
    "$ \\newcommand{\\dot}[2]{ #1 \\cdot #2} $\n",
    "$ \\newcommand{\\biginner}[2]{\\left\\langle #1,#2\\right\\rangle} $\n",
    "$ \\newcommand{\\mymatrix}[2]{\\left( \\begin{array}{#1} #2\\end{array} \\right)} $\n",
    "$ \\newcommand{\\myvector}[1]{\\mymatrix{c}{#1}} $\n",
    "$ \\newcommand{\\myrvector}[1]{\\mymatrix{r}{#1}} $\n",
    "$ \\newcommand{\\mypar}[1]{\\left( #1 \\right)} $\n",
    "$ \\newcommand{\\mybigpar}[1]{ \\Big( #1 \\Big)} $\n",
    "$ \\newcommand{\\sqrttwo}{\\frac{1}{\\sqrt{2}}} $\n",
    "$ \\newcommand{\\dsqrttwo}{\\dfrac{1}{\\sqrt{2}}} $\n",
    "$ \\newcommand{\\onehalf}{\\frac{1}{2}} $\n",
    "$ \\newcommand{\\donehalf}{\\dfrac{1}{2}} $\n",
    "$ \\newcommand{\\hadamard}{ \\mymatrix{rr}{ \\sqrttwo & \\sqrttwo \\\\ \\sqrttwo & -\\sqrttwo }} $\n",
    "$ \\newcommand{\\vzero}{\\myvector{1\\\\0}} $\n",
    "$ \\newcommand{\\vone}{\\myvector{0\\\\1}} $\n",
    "$ \\newcommand{\\vhadamardzero}{\\myvector{ \\sqrttwo \\\\  \\sqrttwo } } $\n",
    "$ \\newcommand{\\vhadamardone}{ \\myrvector{ \\sqrttwo \\\\ -\\sqrttwo } } $\n",
    "$ \\newcommand{\\myarray}[2]{ \\begin{array}{#1}#2\\end{array}} $\n",
    "$ \\newcommand{\\X}{ \\mymatrix{cc}{0 & 1 \\\\ 1 & 0}  } $\n",
    "$ \\newcommand{\\Z}{ \\mymatrix{rr}{1 & 0 \\\\ 0 & -1}  } $\n",
    "$ \\newcommand{\\Htwo}{ \\mymatrix{rrrr}{ \\frac{1}{2} & \\frac{1}{2} & \\frac{1}{2} & \\frac{1}{2} \\\\ \\frac{1}{2} & -\\frac{1}{2} & \\frac{1}{2} & -\\frac{1}{2} \\\\ \\frac{1}{2} & \\frac{1}{2} & -\\frac{1}{2} & -\\frac{1}{2} \\\\ \\frac{1}{2} & -\\frac{1}{2} & -\\frac{1}{2} & \\frac{1}{2} } } $\n",
    "$ \\newcommand{\\CNOT}{ \\mymatrix{cccc}{1 & 0 & 0 & 0 \\\\ 0 & 1 & 0 & 0 \\\\ 0 & 0 & 0 & 1 \\\\ 0 & 0 & 1 & 0} } $\n",
    "$ \\newcommand{\\norm}[1]{ \\left\\lVert #1 \\right\\rVert } $"
   ]
  },
  {
   "cell_type": "markdown",
   "metadata": {},
   "source": [
    "<h2> Solutions pour la section <b> Vecteurs </b> </h2>"
   ]
  },
  {
   "cell_type": "markdown",
   "metadata": {
    "tags": []
   },
   "source": [
    "<a id=\"task1\"></a>\n",
    "<h3> Exercise 1 </h3>\n",
    "\n",
    "Créez deux vecteurs à 7 dimensions  𝑢  et  𝑣 avec des éléments de nombres aléatoires entre  −10  et  10.\n",
    "\n",
    "Imprimez les eléments de chaque vecteur."
   ]
  },
  {
   "cell_type": "markdown",
   "metadata": {},
   "source": [
    "<h4>Solution</h4>"
   ]
  },
  {
   "cell_type": "code",
   "execution_count": null,
   "metadata": {},
   "outputs": [],
   "source": [
    "from random import randrange\n",
    "\n",
    "dimension = 7\n",
    "\n",
    "# Création des listes vides pour u et v  \n",
    "u = []\n",
    "v = []\n",
    "\n",
    "for i in range(dimension):\n",
    "    u.append(randrange(-10,11)) # add a randomly picked number to the list u\n",
    "    v.append(randrange(-10,11)) # add a randomly picked number to the list v\n",
    "\n",
    "# Impression des résultats\n",
    "print(\"u est\",u)\n",
    "print(\"v est\",v)"
   ]
  },
  {
   "cell_type": "code",
   "execution_count": null,
   "metadata": {},
   "outputs": [],
   "source": [
    "# Méthode avec Numpy\n",
    "import numpy as np\n",
    "\n",
    "u = np.random.randint(-10,11,7)\n",
    "v = np.random.randint(-10,11,7)\n",
    "\n",
    "print(\"u est\",u)\n",
    "print(\"v est\",v)"
   ]
  },
  {
   "cell_type": "markdown",
   "metadata": {},
   "source": [
    "<hr>"
   ]
  },
  {
   "cell_type": "markdown",
   "metadata": {},
   "source": [
    "<a id=\"task2\"></a>\n",
    "<h3> Exercise 2 </h3>\n",
    "\n",
    "Avec les deux mêmes vecteurs, trouvez le vecteur $  (3  u-2  v) $ et imprime les éléments. $ 3u $ et $ 2v $ signifie que $u$ et $v$ sont multipliés par $3$ et $2$, respectivement."
   ]
  },
  {
   "cell_type": "markdown",
   "metadata": {},
   "source": [
    "<h4>Solution</h4>"
   ]
  },
  {
   "cell_type": "code",
   "execution_count": null,
   "metadata": {},
   "outputs": [],
   "source": [
    "# Première méthode\n",
    "resultat=[] #Création d'une liste vide\n",
    "\n",
    "# Remplir de zéros\n",
    "for i in range(dimension): \n",
    "    resultat.append(0)\n",
    "\n",
    "print(\"Avec la première méthode, le vecteur généré est\",resultat)\n",
    "\n",
    "# Seconde méthode\n",
    "# Solution alternative et plus efficace pour créer une liste remplie de zéros\n",
    "resultat = [0] * 7 \n",
    "\n",
    "print(\"Avec la deuxième méthode, le vecteur généré est\",result)\n",
    "\n",
    "# Calcule 3u-2v\n",
    "for i in range(dimension):\n",
    "    resultat[i] = 3 * u[i] - 2 * v[i]\n",
    "\n",
    "# Impression des listes\n",
    "print(\"u est\",u)\n",
    "print(\"v est\",v)\n",
    "print(\"3u-2v est\",resultat)"
   ]
  },
  {
   "cell_type": "code",
   "execution_count": null,
   "metadata": {},
   "outputs": [],
   "source": [
    "# Méthode avec Numpy\n",
    "import numpy as np\n",
    "\n",
    "u = np.random.randint(-10,11,7)\n",
    "u = np.random.randint(-10,11,7)\n",
    "\n",
    "diff = 3*u - 2*v\n",
    "\n",
    "print(\"u est\",u)\n",
    "print(\"v est\",v)\n",
    "print(\"3u-2v est\",diff)"
   ]
  },
  {
   "cell_type": "markdown",
   "metadata": {},
   "source": [
    "<hr>"
   ]
  },
  {
   "cell_type": "markdown",
   "metadata": {},
   "source": [
    "<h3> Exercise 3 </h3>\n",
    "\n",
    "$ u = \\myrvector{1 \\\\ -2 \\\\ -4 \\\\ 2} $ est un vecteur à 4 dimensions.\n",
    "\n",
    "Vérifiez que $ \\norm{4 u} = 4 \\cdot \\norm{u} $ en Python. \n",
    "\n",
    "$ 4u $ est un nouveau vecteur obtenu en multipliant $ u $ par 4. "
   ]
  },
  {
   "cell_type": "markdown",
   "metadata": {},
   "source": [
    "<h4>Solution</h4>"
   ]
  },
  {
   "cell_type": "code",
   "execution_count": null,
   "metadata": {},
   "outputs": [],
   "source": [
    "import numpy as np\n",
    "u = [1,-2,-4,2]\n",
    "\n",
    "quatre_u = np.array(u)*4\n",
    "long_u = np.linalg.norm(u)\n",
    "long_quatre_u = np.linalg.norm(quatre_u)\n",
    "\n",
    "print(\"La longueur de u est\",long_u)\n",
    "print(\"La 4 * longueur de u est\",4 * long_u)\n",
    "print(\"La longueur de 4u est\",long_quatre_u)"
   ]
  },
  {
   "cell_type": "markdown",
   "metadata": {},
   "source": [
    "<hr>"
   ]
  },
  {
   "cell_type": "markdown",
   "metadata": {},
   "source": [
    "<h3> Exercise 4 </h3>\n",
    "\n",
    "$ u = \\myrvector{1 \\\\ -2 \\\\ -4 \\\\ 2} $ \n",
    "\n",
    "Choisissez un nombre aléatoire $r$ parmi $ \\left\\{ \\dfrac{1}{10}, \\dfrac{2}{10}, \\cdots, \\dfrac{9}{10} \\right\\} $.\n",
    "\n",
    "Trouvez le vecteur $(-r)\\cdot u$ et sa longueur."
   ]
  },
  {
   "cell_type": "markdown",
   "metadata": {},
   "source": [
    "<h4>Solution</h4>"
   ]
  },
  {
   "cell_type": "code",
   "execution_count": null,
   "metadata": {},
   "outputs": [],
   "source": [
    "import numpy as np\n",
    "from random import randrange\n",
    "\n",
    "u = [1,-2,-4,2]\n",
    "\n",
    "print(\"u est\",u)\n",
    "\n",
    "r = randrange(9) # r est un nombre entre {0,...,8}\n",
    "r = r + 1 # r est un nombre dans la séquence {1,...,9}\n",
    "r = r/10 # est un nombre dans la séquence {1/10,...,9/10}\n",
    "\n",
    "print()\n",
    "print(\"r est\",r)\n",
    "\n",
    "neg_r = r*(-1)\n",
    "nouv_u = np.array(neg_r)*np.array(u)\n",
    "\n",
    "print()   \n",
    "print(\"-ru est\",nouv_u)\n",
    "print()\n",
    "  \n",
    "long_nouv_u = np.linalg.norm(nouv_u)   \n",
    "print(\"La longueur de\",nouv_u,\"est\",long_nouv_u)"
   ]
  },
  {
   "cell_type": "markdown",
   "metadata": {},
   "source": [
    "<hr>"
   ]
  },
  {
   "cell_type": "markdown",
   "metadata": {},
   "source": [
    "<h3> Exercise 5 </h3>\n",
    "\n",
    "Vérifiez que (i) $ u $ est orthogonal à $ -v $, (ii) $ -u $ est orthogonal à $ v $, et (iii) $ -u $ est orthogonal à $ -v $.\n",
    "\n",
    "<img src=\"./images/inner_v_u_-v_-u.jpg\" width=\"40%\">"
   ]
  },
  {
   "cell_type": "markdown",
   "metadata": {},
   "source": [
    "<h4>Solution</h4>"
   ]
  },
  {
   "cell_type": "code",
   "execution_count": null,
   "metadata": {},
   "outputs": [],
   "source": [
    "import numpy as np\n",
    "\n",
    "u = [-3,-4]\n",
    "neg_u=[3,4]\n",
    "\n",
    "v=[-4,3]\n",
    "neg_v=[4,-3]\n",
    "\n",
    "print(\"Le produit scalaire de u et -v (\",u,\" et \",neg_v,\") est\",np.dot(u,neg_v))\n",
    "print(\"Le produit scalaire de -u et  v (\",neg_u,\"   et \",v,\") est\",np.dot(neg_u,v))\n",
    "print(\"Le produit scalaire de -u et -v (\",neg_u,\"   et \",neg_v,\") est\",np.dot(neg_u,neg_v))"
   ]
  },
  {
   "cell_type": "code",
   "execution_count": null,
   "metadata": {},
   "outputs": [],
   "source": [
    "# Méthode manuelle\n",
    "\n",
    "u = [-3,-4]\n",
    "neg_u=[3,4]\n",
    "\n",
    "v=[-4,3]\n",
    "neg_v=[4,-3]\n",
    "\n",
    "# Définition d'une fonction pour évaluer le produit scalaire\n",
    "def dot(v_one,v_two):\n",
    "    summation = 0 \n",
    "    for i in range(len(v_one)):\n",
    "        summation = summation + v_one[i]*v_two[i] \n",
    "    return summation # retourne le produit scalaire\n",
    "\n",
    "print(\"Le produit scalaire de u et -v (\",u,\" et \",neg_v,\") est\",np.dot(u,neg_v))\n",
    "print(\"Le produit scalaire de -u et  v (\",neg_u,\"   et \",v,\") est\",np.dot(neg_u,v))\n",
    "print(\"Le produit scalaire de -u et -v (\",neg_u,\"   et \",neg_v,\") est\",np.dot(neg_u,neg_v))"
   ]
  },
  {
   "cell_type": "code",
   "execution_count": null,
   "metadata": {},
   "outputs": [],
   "source": []
  }
 ],
 "metadata": {
  "kernelspec": {
   "display_name": "Python 3 (ipykernel)",
   "language": "python",
   "name": "python3"
  },
  "language_info": {
   "codemirror_mode": {
    "name": "ipython",
    "version": 3
   },
   "file_extension": ".py",
   "mimetype": "text/x-python",
   "name": "python",
   "nbconvert_exporter": "python",
   "pygments_lexer": "ipython3",
   "version": "3.10.9"
  }
 },
 "nbformat": 4,
 "nbformat_minor": 4
}
